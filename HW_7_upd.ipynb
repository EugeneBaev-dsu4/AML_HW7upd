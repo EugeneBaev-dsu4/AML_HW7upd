{
 "cells": [
  {
   "cell_type": "code",
   "execution_count": 1,
   "metadata": {},
   "outputs": [],
   "source": [
    "import matplotlib.pyplot as plt\n",
    "import pandas as pd\n",
    "import numpy as np\n",
    "from sklearn.metrics import auc, roc_curve, roc_auc_score\n",
    "from sklearn.ensemble import RandomForestClassifier\n",
    "from sklearn.ensemble import RandomForestRegressor\n",
    "from sklearn.model_selection import train_test_split, cross_val_score"
   ]
  },
  {
   "cell_type": "code",
   "execution_count": 2,
   "metadata": {},
   "outputs": [],
   "source": [
    "df = pd.read_csv('train.csv')"
   ]
  },
  {
   "cell_type": "code",
   "execution_count": 3,
   "metadata": {},
   "outputs": [
    {
     "data": {
      "text/html": [
       "<div>\n",
       "<style scoped>\n",
       "    .dataframe tbody tr th:only-of-type {\n",
       "        vertical-align: middle;\n",
       "    }\n",
       "\n",
       "    .dataframe tbody tr th {\n",
       "        vertical-align: top;\n",
       "    }\n",
       "\n",
       "    .dataframe thead th {\n",
       "        text-align: right;\n",
       "    }\n",
       "</style>\n",
       "<table border=\"1\" class=\"dataframe\">\n",
       "  <thead>\n",
       "    <tr style=\"text-align: right;\">\n",
       "      <th></th>\n",
       "      <th>full_sq</th>\n",
       "      <th>life_sq</th>\n",
       "      <th>floor</th>\n",
       "      <th>max_floor</th>\n",
       "      <th>material</th>\n",
       "      <th>build_year</th>\n",
       "      <th>num_room</th>\n",
       "      <th>kitch_sq</th>\n",
       "      <th>state</th>\n",
       "      <th>area_m</th>\n",
       "      <th>...</th>\n",
       "      <th>big_market_km</th>\n",
       "      <th>market_shop_km</th>\n",
       "      <th>fitness_km</th>\n",
       "      <th>university_km</th>\n",
       "      <th>workplaces_km</th>\n",
       "      <th>shopping_centers_km</th>\n",
       "      <th>office_km</th>\n",
       "      <th>additional_education_raion</th>\n",
       "      <th>preschool_km</th>\n",
       "      <th>price_doc</th>\n",
       "    </tr>\n",
       "  </thead>\n",
       "  <tbody>\n",
       "    <tr>\n",
       "      <th>0</th>\n",
       "      <td>43</td>\n",
       "      <td>27.0</td>\n",
       "      <td>4.0</td>\n",
       "      <td>NaN</td>\n",
       "      <td>NaN</td>\n",
       "      <td>NaN</td>\n",
       "      <td>NaN</td>\n",
       "      <td>NaN</td>\n",
       "      <td>NaN</td>\n",
       "      <td>6.407578e+06</td>\n",
       "      <td>...</td>\n",
       "      <td>10.814172</td>\n",
       "      <td>1.676258</td>\n",
       "      <td>0.485841</td>\n",
       "      <td>6.715026</td>\n",
       "      <td>0.884350</td>\n",
       "      <td>0.648488</td>\n",
       "      <td>0.637189</td>\n",
       "      <td>3</td>\n",
       "      <td>0.177975</td>\n",
       "      <td>5850000</td>\n",
       "    </tr>\n",
       "    <tr>\n",
       "      <th>1</th>\n",
       "      <td>34</td>\n",
       "      <td>19.0</td>\n",
       "      <td>3.0</td>\n",
       "      <td>NaN</td>\n",
       "      <td>NaN</td>\n",
       "      <td>NaN</td>\n",
       "      <td>NaN</td>\n",
       "      <td>NaN</td>\n",
       "      <td>NaN</td>\n",
       "      <td>9.589337e+06</td>\n",
       "      <td>...</td>\n",
       "      <td>6.910568</td>\n",
       "      <td>3.424716</td>\n",
       "      <td>0.668364</td>\n",
       "      <td>1.852560</td>\n",
       "      <td>0.686252</td>\n",
       "      <td>0.519311</td>\n",
       "      <td>0.688796</td>\n",
       "      <td>1</td>\n",
       "      <td>0.273345</td>\n",
       "      <td>6000000</td>\n",
       "    </tr>\n",
       "    <tr>\n",
       "      <th>2</th>\n",
       "      <td>43</td>\n",
       "      <td>29.0</td>\n",
       "      <td>2.0</td>\n",
       "      <td>NaN</td>\n",
       "      <td>NaN</td>\n",
       "      <td>NaN</td>\n",
       "      <td>NaN</td>\n",
       "      <td>NaN</td>\n",
       "      <td>NaN</td>\n",
       "      <td>4.808270e+06</td>\n",
       "      <td>...</td>\n",
       "      <td>5.752368</td>\n",
       "      <td>1.375443</td>\n",
       "      <td>0.733101</td>\n",
       "      <td>0.841254</td>\n",
       "      <td>1.510089</td>\n",
       "      <td>1.486533</td>\n",
       "      <td>1.543049</td>\n",
       "      <td>1</td>\n",
       "      <td>0.158072</td>\n",
       "      <td>5700000</td>\n",
       "    </tr>\n",
       "    <tr>\n",
       "      <th>3</th>\n",
       "      <td>89</td>\n",
       "      <td>50.0</td>\n",
       "      <td>9.0</td>\n",
       "      <td>NaN</td>\n",
       "      <td>NaN</td>\n",
       "      <td>NaN</td>\n",
       "      <td>NaN</td>\n",
       "      <td>NaN</td>\n",
       "      <td>NaN</td>\n",
       "      <td>1.258354e+07</td>\n",
       "      <td>...</td>\n",
       "      <td>27.892717</td>\n",
       "      <td>0.811275</td>\n",
       "      <td>0.623484</td>\n",
       "      <td>10.903161</td>\n",
       "      <td>0.622272</td>\n",
       "      <td>0.599914</td>\n",
       "      <td>0.934273</td>\n",
       "      <td>6</td>\n",
       "      <td>0.236455</td>\n",
       "      <td>13100000</td>\n",
       "    </tr>\n",
       "    <tr>\n",
       "      <th>4</th>\n",
       "      <td>77</td>\n",
       "      <td>77.0</td>\n",
       "      <td>4.0</td>\n",
       "      <td>NaN</td>\n",
       "      <td>NaN</td>\n",
       "      <td>NaN</td>\n",
       "      <td>NaN</td>\n",
       "      <td>NaN</td>\n",
       "      <td>NaN</td>\n",
       "      <td>8.398461e+06</td>\n",
       "      <td>...</td>\n",
       "      <td>9.155057</td>\n",
       "      <td>1.969738</td>\n",
       "      <td>0.220288</td>\n",
       "      <td>0.991683</td>\n",
       "      <td>0.892668</td>\n",
       "      <td>0.429052</td>\n",
       "      <td>0.077901</td>\n",
       "      <td>2</td>\n",
       "      <td>0.376838</td>\n",
       "      <td>16331452</td>\n",
       "    </tr>\n",
       "  </tbody>\n",
       "</table>\n",
       "<p>5 rows × 45 columns</p>\n",
       "</div>"
      ],
      "text/plain": [
       "   full_sq  life_sq  floor  max_floor  material  build_year  num_room  \\\n",
       "0       43     27.0    4.0        NaN       NaN         NaN       NaN   \n",
       "1       34     19.0    3.0        NaN       NaN         NaN       NaN   \n",
       "2       43     29.0    2.0        NaN       NaN         NaN       NaN   \n",
       "3       89     50.0    9.0        NaN       NaN         NaN       NaN   \n",
       "4       77     77.0    4.0        NaN       NaN         NaN       NaN   \n",
       "\n",
       "   kitch_sq  state        area_m  ...  big_market_km  market_shop_km  \\\n",
       "0       NaN    NaN  6.407578e+06  ...      10.814172        1.676258   \n",
       "1       NaN    NaN  9.589337e+06  ...       6.910568        3.424716   \n",
       "2       NaN    NaN  4.808270e+06  ...       5.752368        1.375443   \n",
       "3       NaN    NaN  1.258354e+07  ...      27.892717        0.811275   \n",
       "4       NaN    NaN  8.398461e+06  ...       9.155057        1.969738   \n",
       "\n",
       "   fitness_km  university_km  workplaces_km  shopping_centers_km  office_km  \\\n",
       "0    0.485841       6.715026       0.884350             0.648488   0.637189   \n",
       "1    0.668364       1.852560       0.686252             0.519311   0.688796   \n",
       "2    0.733101       0.841254       1.510089             1.486533   1.543049   \n",
       "3    0.623484      10.903161       0.622272             0.599914   0.934273   \n",
       "4    0.220288       0.991683       0.892668             0.429052   0.077901   \n",
       "\n",
       "   additional_education_raion  preschool_km  price_doc  \n",
       "0                           3      0.177975    5850000  \n",
       "1                           1      0.273345    6000000  \n",
       "2                           1      0.158072    5700000  \n",
       "3                           6      0.236455   13100000  \n",
       "4                           2      0.376838   16331452  \n",
       "\n",
       "[5 rows x 45 columns]"
      ]
     },
     "execution_count": 3,
     "metadata": {},
     "output_type": "execute_result"
    }
   ],
   "source": [
    "data = df[['full_sq', 'life_sq', 'floor', 'max_floor', 'material', 'build_year', 'num_room', 'kitch_sq',\n",
    "'state', 'area_m', 'raion_popul', 'green_zone_part', 'indust_part', 'preschool_education_centers_raion',\n",
    "'school_education_centers_raion', 'hospital_beds_raion', 'healthcare_centers_raion', 'sport_objects_raion',\n",
    "'additional_education_raion', 'shopping_centers_raion', 'office_raion', 'ID_metro', 'metro_min_walk', 'kindergarten_km',\n",
    "'school_km', 'park_km', 'green_zone_km', 'industrial_km', 'water_km', 'mkad_km', 'ttk_km', 'sadovoe_km', 'bulvar_ring_km',\n",
    "'kremlin_km', 'ts_km', 'big_market_km','market_shop_km', 'fitness_km', 'university_km', 'workplaces_km', 'shopping_centers_km',\n",
    "'office_km', 'additional_education_raion', 'preschool_km', 'price_doc']]\n",
    "data.head()"
   ]
  },
  {
   "cell_type": "code",
   "execution_count": 4,
   "metadata": {},
   "outputs": [
    {
     "name": "stdout",
     "output_type": "stream",
     "text": [
      "<class 'pandas.core.frame.DataFrame'>\n",
      "RangeIndex: 30471 entries, 0 to 30470\n",
      "Data columns (total 45 columns):\n",
      " #   Column                             Non-Null Count  Dtype  \n",
      "---  ------                             --------------  -----  \n",
      " 0   full_sq                            30471 non-null  int64  \n",
      " 1   life_sq                            24088 non-null  float64\n",
      " 2   floor                              30304 non-null  float64\n",
      " 3   max_floor                          20899 non-null  float64\n",
      " 4   material                           20899 non-null  float64\n",
      " 5   build_year                         16866 non-null  float64\n",
      " 6   num_room                           20899 non-null  float64\n",
      " 7   kitch_sq                           20899 non-null  float64\n",
      " 8   state                              16912 non-null  float64\n",
      " 9   area_m                             30471 non-null  float64\n",
      " 10  raion_popul                        30471 non-null  int64  \n",
      " 11  green_zone_part                    30471 non-null  float64\n",
      " 12  indust_part                        30471 non-null  float64\n",
      " 13  preschool_education_centers_raion  30471 non-null  int64  \n",
      " 14  school_education_centers_raion     30471 non-null  int64  \n",
      " 15  hospital_beds_raion                16030 non-null  float64\n",
      " 16  healthcare_centers_raion           30471 non-null  int64  \n",
      " 17  sport_objects_raion                30471 non-null  int64  \n",
      " 18  additional_education_raion         30471 non-null  int64  \n",
      " 19  shopping_centers_raion             30471 non-null  int64  \n",
      " 20  office_raion                       30471 non-null  int64  \n",
      " 21  ID_metro                           30471 non-null  int64  \n",
      " 22  metro_min_walk                     30446 non-null  float64\n",
      " 23  kindergarten_km                    30471 non-null  float64\n",
      " 24  school_km                          30471 non-null  float64\n",
      " 25  park_km                            30471 non-null  float64\n",
      " 26  green_zone_km                      30471 non-null  float64\n",
      " 27  industrial_km                      30471 non-null  float64\n",
      " 28  water_km                           30471 non-null  float64\n",
      " 29  mkad_km                            30471 non-null  float64\n",
      " 30  ttk_km                             30471 non-null  float64\n",
      " 31  sadovoe_km                         30471 non-null  float64\n",
      " 32  bulvar_ring_km                     30471 non-null  float64\n",
      " 33  kremlin_km                         30471 non-null  float64\n",
      " 34  ts_km                              30471 non-null  float64\n",
      " 35  big_market_km                      30471 non-null  float64\n",
      " 36  market_shop_km                     30471 non-null  float64\n",
      " 37  fitness_km                         30471 non-null  float64\n",
      " 38  university_km                      30471 non-null  float64\n",
      " 39  workplaces_km                      30471 non-null  float64\n",
      " 40  shopping_centers_km                30471 non-null  float64\n",
      " 41  office_km                          30471 non-null  float64\n",
      " 42  additional_education_raion         30471 non-null  int64  \n",
      " 43  preschool_km                       30471 non-null  float64\n",
      " 44  price_doc                          30471 non-null  int64  \n",
      "dtypes: float64(33), int64(12)\n",
      "memory usage: 10.5 MB\n"
     ]
    }
   ],
   "source": [
    "# посмотрим на типы данных по столбцам и количество пропусков\n",
    "data.info()"
   ]
  },
  {
   "cell_type": "code",
   "execution_count": 5,
   "metadata": {},
   "outputs": [
    {
     "data": {
      "text/html": [
       "<div>\n",
       "<style scoped>\n",
       "    .dataframe tbody tr th:only-of-type {\n",
       "        vertical-align: middle;\n",
       "    }\n",
       "\n",
       "    .dataframe tbody tr th {\n",
       "        vertical-align: top;\n",
       "    }\n",
       "\n",
       "    .dataframe thead th {\n",
       "        text-align: right;\n",
       "    }\n",
       "</style>\n",
       "<table border=\"1\" class=\"dataframe\">\n",
       "  <thead>\n",
       "    <tr style=\"text-align: right;\">\n",
       "      <th></th>\n",
       "      <th>full_sq</th>\n",
       "      <th>life_sq</th>\n",
       "      <th>floor</th>\n",
       "      <th>max_floor</th>\n",
       "      <th>material</th>\n",
       "      <th>build_year</th>\n",
       "      <th>num_room</th>\n",
       "      <th>kitch_sq</th>\n",
       "      <th>state</th>\n",
       "      <th>area_m</th>\n",
       "      <th>...</th>\n",
       "      <th>big_market_km</th>\n",
       "      <th>market_shop_km</th>\n",
       "      <th>fitness_km</th>\n",
       "      <th>university_km</th>\n",
       "      <th>workplaces_km</th>\n",
       "      <th>shopping_centers_km</th>\n",
       "      <th>office_km</th>\n",
       "      <th>additional_education_raion</th>\n",
       "      <th>preschool_km</th>\n",
       "      <th>price_doc</th>\n",
       "    </tr>\n",
       "  </thead>\n",
       "  <tbody>\n",
       "    <tr>\n",
       "      <th>count</th>\n",
       "      <td>30471.000000</td>\n",
       "      <td>24088.000000</td>\n",
       "      <td>30304.000000</td>\n",
       "      <td>20899.000000</td>\n",
       "      <td>20899.000000</td>\n",
       "      <td>1.686600e+04</td>\n",
       "      <td>20899.000000</td>\n",
       "      <td>20899.000000</td>\n",
       "      <td>16912.000000</td>\n",
       "      <td>3.047100e+04</td>\n",
       "      <td>...</td>\n",
       "      <td>30471.000000</td>\n",
       "      <td>30471.000000</td>\n",
       "      <td>30471.000000</td>\n",
       "      <td>30471.000000</td>\n",
       "      <td>30471.000000</td>\n",
       "      <td>30471.000000</td>\n",
       "      <td>30471.000000</td>\n",
       "      <td>30471.000000</td>\n",
       "      <td>30471.000000</td>\n",
       "      <td>3.047100e+04</td>\n",
       "    </tr>\n",
       "    <tr>\n",
       "      <th>mean</th>\n",
       "      <td>54.214269</td>\n",
       "      <td>34.403271</td>\n",
       "      <td>7.670803</td>\n",
       "      <td>12.558974</td>\n",
       "      <td>1.827121</td>\n",
       "      <td>3.068057e+03</td>\n",
       "      <td>1.909804</td>\n",
       "      <td>6.399301</td>\n",
       "      <td>2.107025</td>\n",
       "      <td>1.765705e+07</td>\n",
       "      <td>...</td>\n",
       "      <td>13.283916</td>\n",
       "      <td>3.958882</td>\n",
       "      <td>1.154586</td>\n",
       "      <td>6.855891</td>\n",
       "      <td>3.926702</td>\n",
       "      <td>1.505808</td>\n",
       "      <td>2.010973</td>\n",
       "      <td>2.896393</td>\n",
       "      <td>1.345235</td>\n",
       "      <td>7.123035e+06</td>\n",
       "    </tr>\n",
       "    <tr>\n",
       "      <th>std</th>\n",
       "      <td>38.031487</td>\n",
       "      <td>52.285733</td>\n",
       "      <td>5.319989</td>\n",
       "      <td>6.756550</td>\n",
       "      <td>1.481154</td>\n",
       "      <td>1.543878e+05</td>\n",
       "      <td>0.851805</td>\n",
       "      <td>28.265979</td>\n",
       "      <td>0.880148</td>\n",
       "      <td>2.064961e+07</td>\n",
       "      <td>...</td>\n",
       "      <td>8.497170</td>\n",
       "      <td>3.447536</td>\n",
       "      <td>1.541425</td>\n",
       "      <td>6.731484</td>\n",
       "      <td>4.907562</td>\n",
       "      <td>2.253759</td>\n",
       "      <td>2.306446</td>\n",
       "      <td>3.290058</td>\n",
       "      <td>3.053600</td>\n",
       "      <td>4.780111e+06</td>\n",
       "    </tr>\n",
       "    <tr>\n",
       "      <th>min</th>\n",
       "      <td>0.000000</td>\n",
       "      <td>0.000000</td>\n",
       "      <td>0.000000</td>\n",
       "      <td>0.000000</td>\n",
       "      <td>1.000000</td>\n",
       "      <td>0.000000e+00</td>\n",
       "      <td>0.000000</td>\n",
       "      <td>0.000000</td>\n",
       "      <td>1.000000</td>\n",
       "      <td>2.081628e+06</td>\n",
       "      <td>...</td>\n",
       "      <td>0.661366</td>\n",
       "      <td>0.003847</td>\n",
       "      <td>0.000000</td>\n",
       "      <td>0.000313</td>\n",
       "      <td>0.000000</td>\n",
       "      <td>0.000000</td>\n",
       "      <td>0.000000</td>\n",
       "      <td>0.000000</td>\n",
       "      <td>0.000000</td>\n",
       "      <td>1.000000e+05</td>\n",
       "    </tr>\n",
       "    <tr>\n",
       "      <th>25%</th>\n",
       "      <td>38.000000</td>\n",
       "      <td>20.000000</td>\n",
       "      <td>3.000000</td>\n",
       "      <td>9.000000</td>\n",
       "      <td>1.000000</td>\n",
       "      <td>1.967000e+03</td>\n",
       "      <td>1.000000</td>\n",
       "      <td>1.000000</td>\n",
       "      <td>1.000000</td>\n",
       "      <td>7.307411e+06</td>\n",
       "      <td>...</td>\n",
       "      <td>7.529625</td>\n",
       "      <td>1.543631</td>\n",
       "      <td>0.361170</td>\n",
       "      <td>2.201193</td>\n",
       "      <td>1.016728</td>\n",
       "      <td>0.483758</td>\n",
       "      <td>0.555231</td>\n",
       "      <td>1.000000</td>\n",
       "      <td>0.285124</td>\n",
       "      <td>4.740002e+06</td>\n",
       "    </tr>\n",
       "    <tr>\n",
       "      <th>50%</th>\n",
       "      <td>49.000000</td>\n",
       "      <td>30.000000</td>\n",
       "      <td>6.500000</td>\n",
       "      <td>12.000000</td>\n",
       "      <td>1.000000</td>\n",
       "      <td>1.979000e+03</td>\n",
       "      <td>2.000000</td>\n",
       "      <td>6.000000</td>\n",
       "      <td>2.000000</td>\n",
       "      <td>1.050803e+07</td>\n",
       "      <td>...</td>\n",
       "      <td>11.910442</td>\n",
       "      <td>2.927417</td>\n",
       "      <td>0.656267</td>\n",
       "      <td>4.337579</td>\n",
       "      <td>2.031685</td>\n",
       "      <td>0.839647</td>\n",
       "      <td>1.052999</td>\n",
       "      <td>2.000000</td>\n",
       "      <td>0.493048</td>\n",
       "      <td>6.274411e+06</td>\n",
       "    </tr>\n",
       "    <tr>\n",
       "      <th>75%</th>\n",
       "      <td>63.000000</td>\n",
       "      <td>43.000000</td>\n",
       "      <td>11.000000</td>\n",
       "      <td>17.000000</td>\n",
       "      <td>2.000000</td>\n",
       "      <td>2.005000e+03</td>\n",
       "      <td>2.000000</td>\n",
       "      <td>9.000000</td>\n",
       "      <td>3.000000</td>\n",
       "      <td>1.803644e+07</td>\n",
       "      <td>...</td>\n",
       "      <td>16.560167</td>\n",
       "      <td>5.485423</td>\n",
       "      <td>1.333994</td>\n",
       "      <td>9.380269</td>\n",
       "      <td>5.415663</td>\n",
       "      <td>1.549517</td>\n",
       "      <td>3.046687</td>\n",
       "      <td>4.000000</td>\n",
       "      <td>0.936324</td>\n",
       "      <td>8.300000e+06</td>\n",
       "    </tr>\n",
       "    <tr>\n",
       "      <th>max</th>\n",
       "      <td>5326.000000</td>\n",
       "      <td>7478.000000</td>\n",
       "      <td>77.000000</td>\n",
       "      <td>117.000000</td>\n",
       "      <td>6.000000</td>\n",
       "      <td>2.005201e+07</td>\n",
       "      <td>19.000000</td>\n",
       "      <td>2014.000000</td>\n",
       "      <td>33.000000</td>\n",
       "      <td>2.060718e+08</td>\n",
       "      <td>...</td>\n",
       "      <td>59.501648</td>\n",
       "      <td>41.103651</td>\n",
       "      <td>26.652505</td>\n",
       "      <td>84.862148</td>\n",
       "      <td>55.278225</td>\n",
       "      <td>26.259543</td>\n",
       "      <td>18.958933</td>\n",
       "      <td>16.000000</td>\n",
       "      <td>47.394706</td>\n",
       "      <td>1.111111e+08</td>\n",
       "    </tr>\n",
       "  </tbody>\n",
       "</table>\n",
       "<p>8 rows × 45 columns</p>\n",
       "</div>"
      ],
      "text/plain": [
       "            full_sq       life_sq         floor     max_floor      material  \\\n",
       "count  30471.000000  24088.000000  30304.000000  20899.000000  20899.000000   \n",
       "mean      54.214269     34.403271      7.670803     12.558974      1.827121   \n",
       "std       38.031487     52.285733      5.319989      6.756550      1.481154   \n",
       "min        0.000000      0.000000      0.000000      0.000000      1.000000   \n",
       "25%       38.000000     20.000000      3.000000      9.000000      1.000000   \n",
       "50%       49.000000     30.000000      6.500000     12.000000      1.000000   \n",
       "75%       63.000000     43.000000     11.000000     17.000000      2.000000   \n",
       "max     5326.000000   7478.000000     77.000000    117.000000      6.000000   \n",
       "\n",
       "         build_year      num_room      kitch_sq         state        area_m  \\\n",
       "count  1.686600e+04  20899.000000  20899.000000  16912.000000  3.047100e+04   \n",
       "mean   3.068057e+03      1.909804      6.399301      2.107025  1.765705e+07   \n",
       "std    1.543878e+05      0.851805     28.265979      0.880148  2.064961e+07   \n",
       "min    0.000000e+00      0.000000      0.000000      1.000000  2.081628e+06   \n",
       "25%    1.967000e+03      1.000000      1.000000      1.000000  7.307411e+06   \n",
       "50%    1.979000e+03      2.000000      6.000000      2.000000  1.050803e+07   \n",
       "75%    2.005000e+03      2.000000      9.000000      3.000000  1.803644e+07   \n",
       "max    2.005201e+07     19.000000   2014.000000     33.000000  2.060718e+08   \n",
       "\n",
       "       ...  big_market_km  market_shop_km    fitness_km  university_km  \\\n",
       "count  ...   30471.000000    30471.000000  30471.000000   30471.000000   \n",
       "mean   ...      13.283916        3.958882      1.154586       6.855891   \n",
       "std    ...       8.497170        3.447536      1.541425       6.731484   \n",
       "min    ...       0.661366        0.003847      0.000000       0.000313   \n",
       "25%    ...       7.529625        1.543631      0.361170       2.201193   \n",
       "50%    ...      11.910442        2.927417      0.656267       4.337579   \n",
       "75%    ...      16.560167        5.485423      1.333994       9.380269   \n",
       "max    ...      59.501648       41.103651     26.652505      84.862148   \n",
       "\n",
       "       workplaces_km  shopping_centers_km     office_km  \\\n",
       "count   30471.000000         30471.000000  30471.000000   \n",
       "mean        3.926702             1.505808      2.010973   \n",
       "std         4.907562             2.253759      2.306446   \n",
       "min         0.000000             0.000000      0.000000   \n",
       "25%         1.016728             0.483758      0.555231   \n",
       "50%         2.031685             0.839647      1.052999   \n",
       "75%         5.415663             1.549517      3.046687   \n",
       "max        55.278225            26.259543     18.958933   \n",
       "\n",
       "       additional_education_raion  preschool_km     price_doc  \n",
       "count                30471.000000  30471.000000  3.047100e+04  \n",
       "mean                     2.896393      1.345235  7.123035e+06  \n",
       "std                      3.290058      3.053600  4.780111e+06  \n",
       "min                      0.000000      0.000000  1.000000e+05  \n",
       "25%                      1.000000      0.285124  4.740002e+06  \n",
       "50%                      2.000000      0.493048  6.274411e+06  \n",
       "75%                      4.000000      0.936324  8.300000e+06  \n",
       "max                     16.000000     47.394706  1.111111e+08  \n",
       "\n",
       "[8 rows x 45 columns]"
      ]
     },
     "execution_count": 5,
     "metadata": {},
     "output_type": "execute_result"
    }
   ],
   "source": [
    "# посмотрим на статистические показатели по столбцам\n",
    "data.describe()"
   ]
  },
  {
   "cell_type": "code",
   "execution_count": 6,
   "metadata": {},
   "outputs": [
    {
     "data": {
      "text/plain": [
       "full_sq                                211\n",
       "life_sq                                175\n",
       "floor                                   41\n",
       "max_floor                               49\n",
       "material                                 6\n",
       "build_year                             119\n",
       "num_room                                13\n",
       "kitch_sq                                74\n",
       "state                                    5\n",
       "area_m                                 146\n",
       "raion_popul                            146\n",
       "green_zone_part                        146\n",
       "indust_part                            132\n",
       "preschool_education_centers_raion       13\n",
       "school_education_centers_raion          14\n",
       "hospital_beds_raion                     79\n",
       "healthcare_centers_raion                 7\n",
       "sport_objects_raion                     24\n",
       "additional_education_raion              12\n",
       "shopping_centers_raion                  16\n",
       "office_raion                            30\n",
       "ID_metro                               223\n",
       "metro_min_walk                       11834\n",
       "kindergarten_km                      11852\n",
       "school_km                            11825\n",
       "park_km                              11852\n",
       "green_zone_km                        11735\n",
       "industrial_km                        11723\n",
       "water_km                             11851\n",
       "mkad_km                              11852\n",
       "ttk_km                               11852\n",
       "sadovoe_km                           11852\n",
       "bulvar_ring_km                       11852\n",
       "kremlin_km                           11852\n",
       "ts_km                                11849\n",
       "big_market_km                        11843\n",
       "market_shop_km                       11843\n",
       "fitness_km                           11775\n",
       "university_km                        11843\n",
       "workplaces_km                        11844\n",
       "shopping_centers_km                  11813\n",
       "office_km                            11806\n",
       "additional_education_raion              12\n",
       "preschool_km                         11828\n",
       "price_doc                             9296\n",
       "dtype: int64"
      ]
     },
     "execution_count": 6,
     "metadata": {},
     "output_type": "execute_result"
    }
   ],
   "source": [
    "# посмотрим на количество уникальных значений по столбцам, что поможет найти закодированные категориальные признаки\n",
    "data.nunique()"
   ]
  },
  {
   "cell_type": "code",
   "execution_count": 7,
   "metadata": {},
   "outputs": [
    {
     "data": {
      "text/plain": [
       "['full_sq',\n",
       " 'raion_popul',\n",
       " 'preschool_education_centers_raion',\n",
       " 'school_education_centers_raion',\n",
       " 'healthcare_centers_raion',\n",
       " 'sport_objects_raion',\n",
       " 'additional_education_raion',\n",
       " 'shopping_centers_raion',\n",
       " 'office_raion',\n",
       " 'ID_metro',\n",
       " 'additional_education_raion',\n",
       " 'price_doc']"
      ]
     },
     "execution_count": 7,
     "metadata": {},
     "output_type": "execute_result"
    }
   ],
   "source": [
    "# посмотрим на столбцы с целочисленным значением, что поможет найти закодированные категориальные признаки\n",
    "cat_feat = list(data.dtypes[data.dtypes != float].index)\n",
    "cat_feat"
   ]
  },
  {
   "cell_type": "code",
   "execution_count": 8,
   "metadata": {},
   "outputs": [
    {
     "name": "stdout",
     "output_type": "stream",
     "text": [
      "full_sq                               211\n",
      "raion_popul                           146\n",
      "preschool_education_centers_raion      13\n",
      "school_education_centers_raion         14\n",
      "healthcare_centers_raion                7\n",
      "sport_objects_raion                    24\n",
      "additional_education_raion             12\n",
      "additional_education_raion             12\n",
      "shopping_centers_raion                 16\n",
      "office_raion                           30\n",
      "ID_metro                              223\n",
      "additional_education_raion             12\n",
      "additional_education_raion             12\n",
      "price_doc                            9296\n",
      "dtype: int64\n"
     ]
    }
   ],
   "source": [
    "cat_nunique = data[cat_feat].nunique()\n",
    "print(cat_nunique)"
   ]
  },
  {
   "cell_type": "code",
   "execution_count": 9,
   "metadata": {},
   "outputs": [
    {
     "data": {
      "text/html": [
       "<div>\n",
       "<style scoped>\n",
       "    .dataframe tbody tr th:only-of-type {\n",
       "        vertical-align: middle;\n",
       "    }\n",
       "\n",
       "    .dataframe tbody tr th {\n",
       "        vertical-align: top;\n",
       "    }\n",
       "\n",
       "    .dataframe thead th {\n",
       "        text-align: right;\n",
       "    }\n",
       "</style>\n",
       "<table border=\"1\" class=\"dataframe\">\n",
       "  <thead>\n",
       "    <tr style=\"text-align: right;\">\n",
       "      <th></th>\n",
       "      <th>full_sq</th>\n",
       "      <th>raion_popul</th>\n",
       "      <th>preschool_education_centers_raion</th>\n",
       "      <th>school_education_centers_raion</th>\n",
       "      <th>healthcare_centers_raion</th>\n",
       "      <th>sport_objects_raion</th>\n",
       "      <th>additional_education_raion</th>\n",
       "      <th>additional_education_raion</th>\n",
       "      <th>shopping_centers_raion</th>\n",
       "      <th>office_raion</th>\n",
       "      <th>ID_metro</th>\n",
       "      <th>additional_education_raion</th>\n",
       "      <th>additional_education_raion</th>\n",
       "      <th>price_doc</th>\n",
       "    </tr>\n",
       "  </thead>\n",
       "  <tbody>\n",
       "    <tr>\n",
       "      <th>0</th>\n",
       "      <td>43</td>\n",
       "      <td>155572</td>\n",
       "      <td>5</td>\n",
       "      <td>5</td>\n",
       "      <td>1</td>\n",
       "      <td>7</td>\n",
       "      <td>3</td>\n",
       "      <td>3</td>\n",
       "      <td>16</td>\n",
       "      <td>1</td>\n",
       "      <td>1</td>\n",
       "      <td>3</td>\n",
       "      <td>3</td>\n",
       "      <td>5850000</td>\n",
       "    </tr>\n",
       "    <tr>\n",
       "      <th>1</th>\n",
       "      <td>34</td>\n",
       "      <td>115352</td>\n",
       "      <td>5</td>\n",
       "      <td>8</td>\n",
       "      <td>1</td>\n",
       "      <td>6</td>\n",
       "      <td>1</td>\n",
       "      <td>1</td>\n",
       "      <td>3</td>\n",
       "      <td>0</td>\n",
       "      <td>2</td>\n",
       "      <td>1</td>\n",
       "      <td>1</td>\n",
       "      <td>6000000</td>\n",
       "    </tr>\n",
       "    <tr>\n",
       "      <th>2</th>\n",
       "      <td>43</td>\n",
       "      <td>101708</td>\n",
       "      <td>4</td>\n",
       "      <td>7</td>\n",
       "      <td>1</td>\n",
       "      <td>5</td>\n",
       "      <td>1</td>\n",
       "      <td>1</td>\n",
       "      <td>0</td>\n",
       "      <td>1</td>\n",
       "      <td>3</td>\n",
       "      <td>1</td>\n",
       "      <td>1</td>\n",
       "      <td>5700000</td>\n",
       "    </tr>\n",
       "    <tr>\n",
       "      <th>3</th>\n",
       "      <td>89</td>\n",
       "      <td>178473</td>\n",
       "      <td>9</td>\n",
       "      <td>10</td>\n",
       "      <td>1</td>\n",
       "      <td>17</td>\n",
       "      <td>6</td>\n",
       "      <td>6</td>\n",
       "      <td>11</td>\n",
       "      <td>4</td>\n",
       "      <td>4</td>\n",
       "      <td>6</td>\n",
       "      <td>6</td>\n",
       "      <td>13100000</td>\n",
       "    </tr>\n",
       "    <tr>\n",
       "      <th>4</th>\n",
       "      <td>77</td>\n",
       "      <td>108171</td>\n",
       "      <td>7</td>\n",
       "      <td>9</td>\n",
       "      <td>4</td>\n",
       "      <td>25</td>\n",
       "      <td>2</td>\n",
       "      <td>2</td>\n",
       "      <td>10</td>\n",
       "      <td>93</td>\n",
       "      <td>5</td>\n",
       "      <td>2</td>\n",
       "      <td>2</td>\n",
       "      <td>16331452</td>\n",
       "    </tr>\n",
       "  </tbody>\n",
       "</table>\n",
       "</div>"
      ],
      "text/plain": [
       "   full_sq  raion_popul  preschool_education_centers_raion  \\\n",
       "0       43       155572                                  5   \n",
       "1       34       115352                                  5   \n",
       "2       43       101708                                  4   \n",
       "3       89       178473                                  9   \n",
       "4       77       108171                                  7   \n",
       "\n",
       "   school_education_centers_raion  healthcare_centers_raion  \\\n",
       "0                               5                         1   \n",
       "1                               8                         1   \n",
       "2                               7                         1   \n",
       "3                              10                         1   \n",
       "4                               9                         4   \n",
       "\n",
       "   sport_objects_raion  additional_education_raion  \\\n",
       "0                    7                           3   \n",
       "1                    6                           1   \n",
       "2                    5                           1   \n",
       "3                   17                           6   \n",
       "4                   25                           2   \n",
       "\n",
       "   additional_education_raion  shopping_centers_raion  office_raion  ID_metro  \\\n",
       "0                           3                      16             1         1   \n",
       "1                           1                       3             0         2   \n",
       "2                           1                       0             1         3   \n",
       "3                           6                      11             4         4   \n",
       "4                           2                      10            93         5   \n",
       "\n",
       "   additional_education_raion  additional_education_raion  price_doc  \n",
       "0                           3                           3    5850000  \n",
       "1                           1                           1    6000000  \n",
       "2                           1                           1    5700000  \n",
       "3                           6                           6   13100000  \n",
       "4                           2                           2   16331452  "
      ]
     },
     "execution_count": 9,
     "metadata": {},
     "output_type": "execute_result"
    }
   ],
   "source": [
    "data[cat_feat].head()"
   ]
  },
  {
   "cell_type": "code",
   "execution_count": 10,
   "metadata": {},
   "outputs": [],
   "source": [
    "# попробуем обучить модель с грубыи заполнением пропусков\n",
    "RANDOM_STATE = 7\n",
    "N_FOLDS = 10"
   ]
  },
  {
   "cell_type": "code",
   "execution_count": 185,
   "metadata": {},
   "outputs": [],
   "source": [
    "d_train, d_test, y_train, y_test = train_test_split(data.drop('price_doc',axis=1), data.price_doc, random_state=RANDOM_STATE, test_size=0.2)"
   ]
  },
  {
   "cell_type": "code",
   "execution_count": 186,
   "metadata": {},
   "outputs": [],
   "source": [
    "# Заменяем пропуски на специальное значение -999, чтобы деревья могли их отличить\n",
    "X_train = d_train.fillna(-999)\n",
    "\n",
    "X_test = d_test.fillna(-999)"
   ]
  },
  {
   "cell_type": "code",
   "execution_count": 187,
   "metadata": {},
   "outputs": [
    {
     "data": {
      "text/html": [
       "<div>\n",
       "<style scoped>\n",
       "    .dataframe tbody tr th:only-of-type {\n",
       "        vertical-align: middle;\n",
       "    }\n",
       "\n",
       "    .dataframe tbody tr th {\n",
       "        vertical-align: top;\n",
       "    }\n",
       "\n",
       "    .dataframe thead th {\n",
       "        text-align: right;\n",
       "    }\n",
       "</style>\n",
       "<table border=\"1\" class=\"dataframe\">\n",
       "  <thead>\n",
       "    <tr style=\"text-align: right;\">\n",
       "      <th></th>\n",
       "      <th>full_sq</th>\n",
       "      <th>life_sq</th>\n",
       "      <th>floor</th>\n",
       "      <th>max_floor</th>\n",
       "      <th>material</th>\n",
       "      <th>build_year</th>\n",
       "      <th>num_room</th>\n",
       "      <th>kitch_sq</th>\n",
       "      <th>state</th>\n",
       "      <th>area_m</th>\n",
       "      <th>...</th>\n",
       "      <th>ts_km</th>\n",
       "      <th>big_market_km</th>\n",
       "      <th>market_shop_km</th>\n",
       "      <th>fitness_km</th>\n",
       "      <th>university_km</th>\n",
       "      <th>workplaces_km</th>\n",
       "      <th>shopping_centers_km</th>\n",
       "      <th>office_km</th>\n",
       "      <th>additional_education_raion</th>\n",
       "      <th>preschool_km</th>\n",
       "    </tr>\n",
       "  </thead>\n",
       "  <tbody>\n",
       "    <tr>\n",
       "      <th>17015</th>\n",
       "      <td>59</td>\n",
       "      <td>44.0</td>\n",
       "      <td>3.0</td>\n",
       "      <td>9.0</td>\n",
       "      <td>1.0</td>\n",
       "      <td>1968.0</td>\n",
       "      <td>3.0</td>\n",
       "      <td>5.0</td>\n",
       "      <td>2.0</td>\n",
       "      <td>9.589337e+06</td>\n",
       "      <td>...</td>\n",
       "      <td>1.201551</td>\n",
       "      <td>6.853191</td>\n",
       "      <td>4.214405</td>\n",
       "      <td>0.507764</td>\n",
       "      <td>2.345303</td>\n",
       "      <td>0.332175</td>\n",
       "      <td>0.564793</td>\n",
       "      <td>0.689887</td>\n",
       "      <td>1</td>\n",
       "      <td>0.332175</td>\n",
       "    </tr>\n",
       "    <tr>\n",
       "      <th>14742</th>\n",
       "      <td>52</td>\n",
       "      <td>30.0</td>\n",
       "      <td>6.0</td>\n",
       "      <td>6.0</td>\n",
       "      <td>2.0</td>\n",
       "      <td>1989.0</td>\n",
       "      <td>2.0</td>\n",
       "      <td>8.0</td>\n",
       "      <td>-999.0</td>\n",
       "      <td>9.249237e+06</td>\n",
       "      <td>...</td>\n",
       "      <td>0.939255</td>\n",
       "      <td>21.084450</td>\n",
       "      <td>2.737192</td>\n",
       "      <td>0.591406</td>\n",
       "      <td>7.727351</td>\n",
       "      <td>1.359038</td>\n",
       "      <td>0.612408</td>\n",
       "      <td>0.591406</td>\n",
       "      <td>2</td>\n",
       "      <td>0.228386</td>\n",
       "    </tr>\n",
       "    <tr>\n",
       "      <th>28755</th>\n",
       "      <td>54</td>\n",
       "      <td>54.0</td>\n",
       "      <td>2.0</td>\n",
       "      <td>3.0</td>\n",
       "      <td>2.0</td>\n",
       "      <td>-999.0</td>\n",
       "      <td>2.0</td>\n",
       "      <td>1.0</td>\n",
       "      <td>-999.0</td>\n",
       "      <td>1.487016e+08</td>\n",
       "      <td>...</td>\n",
       "      <td>33.214743</td>\n",
       "      <td>44.624118</td>\n",
       "      <td>25.085530</td>\n",
       "      <td>7.354662</td>\n",
       "      <td>41.971774</td>\n",
       "      <td>37.681524</td>\n",
       "      <td>19.142082</td>\n",
       "      <td>15.422305</td>\n",
       "      <td>0</td>\n",
       "      <td>26.499723</td>\n",
       "    </tr>\n",
       "    <tr>\n",
       "      <th>8273</th>\n",
       "      <td>82</td>\n",
       "      <td>75.0</td>\n",
       "      <td>16.0</td>\n",
       "      <td>-999.0</td>\n",
       "      <td>-999.0</td>\n",
       "      <td>-999.0</td>\n",
       "      <td>-999.0</td>\n",
       "      <td>-999.0</td>\n",
       "      <td>-999.0</td>\n",
       "      <td>1.258354e+07</td>\n",
       "      <td>...</td>\n",
       "      <td>0.503765</td>\n",
       "      <td>26.369825</td>\n",
       "      <td>2.055468</td>\n",
       "      <td>0.355630</td>\n",
       "      <td>9.380269</td>\n",
       "      <td>1.016728</td>\n",
       "      <td>0.553097</td>\n",
       "      <td>0.654486</td>\n",
       "      <td>6</td>\n",
       "      <td>0.631866</td>\n",
       "    </tr>\n",
       "    <tr>\n",
       "      <th>25607</th>\n",
       "      <td>41</td>\n",
       "      <td>41.0</td>\n",
       "      <td>2.0</td>\n",
       "      <td>17.0</td>\n",
       "      <td>1.0</td>\n",
       "      <td>2012.0</td>\n",
       "      <td>1.0</td>\n",
       "      <td>10.0</td>\n",
       "      <td>3.0</td>\n",
       "      <td>2.553630e+07</td>\n",
       "      <td>...</td>\n",
       "      <td>5.825262</td>\n",
       "      <td>17.546003</td>\n",
       "      <td>8.968785</td>\n",
       "      <td>3.645170</td>\n",
       "      <td>14.893660</td>\n",
       "      <td>11.246064</td>\n",
       "      <td>0.340980</td>\n",
       "      <td>4.431284</td>\n",
       "      <td>0</td>\n",
       "      <td>1.068618</td>\n",
       "    </tr>\n",
       "  </tbody>\n",
       "</table>\n",
       "<p>5 rows × 44 columns</p>\n",
       "</div>"
      ],
      "text/plain": [
       "       full_sq  life_sq  floor  max_floor  material  build_year  num_room  \\\n",
       "17015       59     44.0    3.0        9.0       1.0      1968.0       3.0   \n",
       "14742       52     30.0    6.0        6.0       2.0      1989.0       2.0   \n",
       "28755       54     54.0    2.0        3.0       2.0      -999.0       2.0   \n",
       "8273        82     75.0   16.0     -999.0    -999.0      -999.0    -999.0   \n",
       "25607       41     41.0    2.0       17.0       1.0      2012.0       1.0   \n",
       "\n",
       "       kitch_sq  state        area_m  ...      ts_km  big_market_km  \\\n",
       "17015       5.0    2.0  9.589337e+06  ...   1.201551       6.853191   \n",
       "14742       8.0 -999.0  9.249237e+06  ...   0.939255      21.084450   \n",
       "28755       1.0 -999.0  1.487016e+08  ...  33.214743      44.624118   \n",
       "8273     -999.0 -999.0  1.258354e+07  ...   0.503765      26.369825   \n",
       "25607      10.0    3.0  2.553630e+07  ...   5.825262      17.546003   \n",
       "\n",
       "       market_shop_km  fitness_km  university_km  workplaces_km  \\\n",
       "17015        4.214405    0.507764       2.345303       0.332175   \n",
       "14742        2.737192    0.591406       7.727351       1.359038   \n",
       "28755       25.085530    7.354662      41.971774      37.681524   \n",
       "8273         2.055468    0.355630       9.380269       1.016728   \n",
       "25607        8.968785    3.645170      14.893660      11.246064   \n",
       "\n",
       "       shopping_centers_km  office_km  additional_education_raion  \\\n",
       "17015             0.564793   0.689887                           1   \n",
       "14742             0.612408   0.591406                           2   \n",
       "28755            19.142082  15.422305                           0   \n",
       "8273              0.553097   0.654486                           6   \n",
       "25607             0.340980   4.431284                           0   \n",
       "\n",
       "       preschool_km  \n",
       "17015      0.332175  \n",
       "14742      0.228386  \n",
       "28755     26.499723  \n",
       "8273       0.631866  \n",
       "25607      1.068618  \n",
       "\n",
       "[5 rows x 44 columns]"
      ]
     },
     "execution_count": 187,
     "metadata": {},
     "output_type": "execute_result"
    }
   ],
   "source": [
    "X_train.head()"
   ]
  },
  {
   "cell_type": "code",
   "execution_count": 188,
   "metadata": {},
   "outputs": [
    {
     "data": {
      "text/plain": [
       "RandomForestRegressor(bootstrap=True, ccp_alpha=0.0, criterion='mse',\n",
       "                      max_depth=20, max_features=0.8, max_leaf_nodes=None,\n",
       "                      max_samples=None, min_impurity_decrease=0.0,\n",
       "                      min_impurity_split=None, min_samples_leaf=20,\n",
       "                      min_samples_split=2, min_weight_fraction_leaf=0.0,\n",
       "                      n_estimators=100, n_jobs=-1, oob_score=False,\n",
       "                      random_state=7, verbose=0, warm_start=False)"
      ]
     },
     "execution_count": 188,
     "metadata": {},
     "output_type": "execute_result"
    }
   ],
   "source": [
    "model_rf = RandomForestRegressor(n_estimators=100, max_depth=20, min_samples_leaf=20, max_features=0.8, n_jobs=-1, bootstrap=True, random_state=RANDOM_STATE)\n",
    "model_rf.fit(X_train, y_train)"
   ]
  },
  {
   "cell_type": "code",
   "execution_count": 189,
   "metadata": {},
   "outputs": [
    {
     "name": "stdout",
     "output_type": "stream",
     "text": [
      "MSE = 8387586838469.958\n"
     ]
    }
   ],
   "source": [
    "score_1 = f\"MSE = {np.mean(-cross_val_score(model_rf,X_test,y_test,cv=N_FOLDS,scoring='neg_mean_squared_error'))}\"\n",
    "print(score_1)"
   ]
  },
  {
   "cell_type": "code",
   "execution_count": 16,
   "metadata": {},
   "outputs": [
    {
     "data": {
      "image/png": "[encoded data removed]",
      "text/plain": [
       "<Figure size 432x288 with 1 Axes>"
      ]
     },
     "metadata": {
      "needs_background": "light"
     },
     "output_type": "display_data"
    }
   ],
   "source": [
    "features = X_train.columns\n",
    "importances = model_rf.feature_importances_[0:20]\n",
    "\n",
    "indices = np.argsort(importances)\n",
    "\n",
    "plt.title('Feature Importances')\n",
    "plt.barh(range(len(indices)), importances[indices], color='b', align='center')\n",
    "plt.yticks(range(len(indices)), [features[i] for i in indices])\n",
    "plt.xlabel('Relative Importance')\n",
    "plt.show()"
   ]
  },
  {
   "cell_type": "markdown",
   "metadata": {},
   "source": [
    "Самые важные признаки - 'full_sq', 'num_room','life_sq', 'indust_part'\\\n",
    "Посмотрим в них пропуски и выбросы."
   ]
  },
  {
   "cell_type": "markdown",
   "metadata": {},
   "source": [
    "'full_sq' - нет пропусков;\\\n",
    "'num_room','life_sq' - очень много пропусков;"
   ]
  },
  {
   "cell_type": "markdown",
   "metadata": {},
   "source": [
    "## Заполняем пропуски"
   ]
  },
  {
   "cell_type": "code",
   "execution_count": 17,
   "metadata": {},
   "outputs": [
    {
     "data": {
      "text/plain": [
       "<matplotlib.axes._subplots.AxesSubplot at 0x1d11becf588>"
      ]
     },
     "execution_count": 17,
     "metadata": {},
     "output_type": "execute_result"
    },
    {
     "data": {
      "image/png": "[encoded data removed]",
      "text/plain": [
       "<Figure size 432x288 with 1 Axes>"
      ]
     },
     "metadata": {
      "needs_background": "light"
     },
     "output_type": "display_data"
    }
   ],
   "source": [
    "# смотрим признак'num_room'\n",
    "data['num_room'].hist(bins=13)"
   ]
  },
  {
   "cell_type": "markdown",
   "metadata": {},
   "source": [
    "Список уникальных значений для 'num_room' небольшой - 13 и почти 10000 значений пустых, распределение близко к нормальному - использовать можно среднее"
   ]
  },
  {
   "cell_type": "code",
   "execution_count": 18,
   "metadata": {},
   "outputs": [
    {
     "data": {
      "text/plain": [
       "1.909804296856309"
      ]
     },
     "execution_count": 18,
     "metadata": {},
     "output_type": "execute_result"
    }
   ],
   "source": [
    "data['num_room'].mean()"
   ]
  },
  {
   "cell_type": "code",
   "execution_count": 19,
   "metadata": {},
   "outputs": [],
   "source": [
    "X_train_1 = d_train.copy()\n",
    "\n",
    "X_test_1 = d_test.copy()"
   ]
  },
  {
   "cell_type": "code",
   "execution_count": 20,
   "metadata": {},
   "outputs": [],
   "source": [
    "# Заменяем пропуски в колонке 'num_room' на среднее\n",
    "X_train_1['num_room'] = d_train['num_room'].fillna(data['num_room'].mean())\n",
    "\n",
    "X_test_1['num_room'] = d_test['num_room'].fillna(data['num_room'].mean())"
   ]
  },
  {
   "cell_type": "code",
   "execution_count": 21,
   "metadata": {},
   "outputs": [],
   "source": [
    "# Заменяем остальные пропуски на специальное значение -999, чтобы деревья могли их отличить\n",
    "X_train_1 = X_train_1.fillna(-999)\n",
    "\n",
    "X_test_1 = X_test_1.fillna(-999)"
   ]
  },
  {
   "cell_type": "code",
   "execution_count": 22,
   "metadata": {},
   "outputs": [
    {
     "data": {
      "text/plain": [
       "RandomForestRegressor(bootstrap=True, ccp_alpha=0.0, criterion='mse',\n",
       "                      max_depth=20, max_features=0.8, max_leaf_nodes=None,\n",
       "                      max_samples=None, min_impurity_decrease=0.0,\n",
       "                      min_impurity_split=None, min_samples_leaf=20,\n",
       "                      min_samples_split=2, min_weight_fraction_leaf=0.0,\n",
       "                      n_estimators=100, n_jobs=-1, oob_score=False,\n",
       "                      random_state=7, verbose=0, warm_start=False)"
      ]
     },
     "execution_count": 22,
     "metadata": {},
     "output_type": "execute_result"
    }
   ],
   "source": [
    "model_rf_1 = RandomForestRegressor(n_estimators=100, max_depth=20, min_samples_leaf=20, max_features=0.8, n_jobs=-1, bootstrap=True, random_state=RANDOM_STATE)\n",
    "model_rf_1.fit(X_train_1, y_train)"
   ]
  },
  {
   "cell_type": "code",
   "execution_count": 23,
   "metadata": {},
   "outputs": [
    {
     "name": "stdout",
     "output_type": "stream",
     "text": [
      "MSE = 8376920864774.594\n"
     ]
    }
   ],
   "source": [
    "score_2 = f\"MSE = {np.mean(-cross_val_score(model_rf_1,X_test_1,y_test,cv=N_FOLDS,scoring='neg_mean_squared_error'))}\"\n",
    "print (score_2)"
   ]
  },
  {
   "cell_type": "markdown",
   "metadata": {},
   "source": [
    "стало немного лучше"
   ]
  },
  {
   "cell_type": "code",
   "execution_count": 24,
   "metadata": {},
   "outputs": [
    {
     "data": {
      "text/plain": [
       "count    24088.000000\n",
       "mean        34.403271\n",
       "std         52.285733\n",
       "min          0.000000\n",
       "25%         20.000000\n",
       "50%         30.000000\n",
       "75%         43.000000\n",
       "max       7478.000000\n",
       "Name: life_sq, dtype: float64"
      ]
     },
     "execution_count": 24,
     "metadata": {},
     "output_type": "execute_result"
    }
   ],
   "source": [
    "# смотрим признак'life_sq'\n",
    "data['life_sq'].describe()"
   ]
  },
  {
   "cell_type": "markdown",
   "metadata": {},
   "source": [
    "Список уникальных значений для 'life_sq' большой - 175 и почти 6000 значений пустых, очень большой разброс между минимальным и максимальным значением - использовать можно медиану"
   ]
  },
  {
   "cell_type": "code",
   "execution_count": 25,
   "metadata": {},
   "outputs": [
    {
     "data": {
      "text/plain": [
       "30.0"
      ]
     },
     "execution_count": 25,
     "metadata": {},
     "output_type": "execute_result"
    }
   ],
   "source": [
    "data['life_sq'].median()"
   ]
  },
  {
   "cell_type": "code",
   "execution_count": 26,
   "metadata": {},
   "outputs": [],
   "source": [
    "X_train_2 = X_train_1.copy()\n",
    "\n",
    "X_test_2 = X_test_1.copy()"
   ]
  },
  {
   "cell_type": "code",
   "execution_count": 27,
   "metadata": {},
   "outputs": [],
   "source": [
    "# Заменяем пропуски в колонке 'life_sq' на медиану\n",
    "X_train_2['life_sq'] = d_train['life_sq'].fillna(data['life_sq'].median())\n",
    "\n",
    "X_test_2['life_sq'] = d_test['life_sq'].fillna(data['life_sq'].median())"
   ]
  },
  {
   "cell_type": "code",
   "execution_count": 28,
   "metadata": {},
   "outputs": [
    {
     "data": {
      "text/plain": [
       "RandomForestRegressor(bootstrap=True, ccp_alpha=0.0, criterion='mse',\n",
       "                      max_depth=20, max_features=0.8, max_leaf_nodes=None,\n",
       "                      max_samples=None, min_impurity_decrease=0.0,\n",
       "                      min_impurity_split=None, min_samples_leaf=20,\n",
       "                      min_samples_split=2, min_weight_fraction_leaf=0.0,\n",
       "                      n_estimators=100, n_jobs=-1, oob_score=False,\n",
       "                      random_state=7, verbose=0, warm_start=False)"
      ]
     },
     "execution_count": 28,
     "metadata": {},
     "output_type": "execute_result"
    }
   ],
   "source": [
    "model_rf_2 = RandomForestRegressor(n_estimators=100, max_depth=20, min_samples_leaf=20, max_features=0.8, n_jobs=-1, bootstrap=True, random_state=RANDOM_STATE)\n",
    "model_rf_2.fit(X_train_2, y_train)"
   ]
  },
  {
   "cell_type": "code",
   "execution_count": 29,
   "metadata": {},
   "outputs": [
    {
     "name": "stdout",
     "output_type": "stream",
     "text": [
      "MSE = 8371550919683.42\n"
     ]
    }
   ],
   "source": [
    "score_3 = f\"MSE = {np.mean(-cross_val_score(model_rf_2,X_test_2,y_test,cv=N_FOLDS,scoring='neg_mean_squared_error'))}\"\n",
    "print (score_3)"
   ]
  },
  {
   "cell_type": "markdown",
   "metadata": {},
   "source": [
    "стало еще немного лучше"
   ]
  },
  {
   "cell_type": "markdown",
   "metadata": {},
   "source": [
    "## Посмотрим выбросы"
   ]
  },
  {
   "cell_type": "code",
   "execution_count": 30,
   "metadata": {},
   "outputs": [
    {
     "data": {
      "text/html": [
       "<div>\n",
       "<style scoped>\n",
       "    .dataframe tbody tr th:only-of-type {\n",
       "        vertical-align: middle;\n",
       "    }\n",
       "\n",
       "    .dataframe tbody tr th {\n",
       "        vertical-align: top;\n",
       "    }\n",
       "\n",
       "    .dataframe thead th {\n",
       "        text-align: right;\n",
       "    }\n",
       "</style>\n",
       "<table border=\"1\" class=\"dataframe\">\n",
       "  <thead>\n",
       "    <tr style=\"text-align: right;\">\n",
       "      <th></th>\n",
       "      <th>life_sq</th>\n",
       "      <th>full_sq</th>\n",
       "      <th>num_room</th>\n",
       "    </tr>\n",
       "  </thead>\n",
       "  <tbody>\n",
       "    <tr>\n",
       "      <th>count</th>\n",
       "      <td>24088.000000</td>\n",
       "      <td>30471.000000</td>\n",
       "      <td>20899.000000</td>\n",
       "    </tr>\n",
       "    <tr>\n",
       "      <th>mean</th>\n",
       "      <td>34.403271</td>\n",
       "      <td>54.214269</td>\n",
       "      <td>1.909804</td>\n",
       "    </tr>\n",
       "    <tr>\n",
       "      <th>std</th>\n",
       "      <td>52.285733</td>\n",
       "      <td>38.031487</td>\n",
       "      <td>0.851805</td>\n",
       "    </tr>\n",
       "    <tr>\n",
       "      <th>min</th>\n",
       "      <td>0.000000</td>\n",
       "      <td>0.000000</td>\n",
       "      <td>0.000000</td>\n",
       "    </tr>\n",
       "    <tr>\n",
       "      <th>25%</th>\n",
       "      <td>20.000000</td>\n",
       "      <td>38.000000</td>\n",
       "      <td>1.000000</td>\n",
       "    </tr>\n",
       "    <tr>\n",
       "      <th>50%</th>\n",
       "      <td>30.000000</td>\n",
       "      <td>49.000000</td>\n",
       "      <td>2.000000</td>\n",
       "    </tr>\n",
       "    <tr>\n",
       "      <th>75%</th>\n",
       "      <td>43.000000</td>\n",
       "      <td>63.000000</td>\n",
       "      <td>2.000000</td>\n",
       "    </tr>\n",
       "    <tr>\n",
       "      <th>max</th>\n",
       "      <td>7478.000000</td>\n",
       "      <td>5326.000000</td>\n",
       "      <td>19.000000</td>\n",
       "    </tr>\n",
       "  </tbody>\n",
       "</table>\n",
       "</div>"
      ],
      "text/plain": [
       "            life_sq       full_sq      num_room\n",
       "count  24088.000000  30471.000000  20899.000000\n",
       "mean      34.403271     54.214269      1.909804\n",
       "std       52.285733     38.031487      0.851805\n",
       "min        0.000000      0.000000      0.000000\n",
       "25%       20.000000     38.000000      1.000000\n",
       "50%       30.000000     49.000000      2.000000\n",
       "75%       43.000000     63.000000      2.000000\n",
       "max     7478.000000   5326.000000     19.000000"
      ]
     },
     "execution_count": 30,
     "metadata": {},
     "output_type": "execute_result"
    }
   ],
   "source": [
    "data[['life_sq','full_sq', 'num_room']].describe()"
   ]
  },
  {
   "cell_type": "code",
   "execution_count": 31,
   "metadata": {},
   "outputs": [
    {
     "data": {
      "image/png": "[encoded data removed]",
      "text/plain": [
       "<Figure size 432x288 with 1 Axes>"
      ]
     },
     "metadata": {
      "needs_background": "light"
     },
     "output_type": "display_data"
    }
   ],
   "source": [
    "plt.scatter(data.full_sq, data.price_doc)\n",
    "plt.xlabel('full_sq')\n",
    "plt.ylabel('price_doc')\n",
    "plt.title('Цена vs full_sq')\n",
    "plt.show();"
   ]
  },
  {
   "cell_type": "markdown",
   "metadata": {},
   "source": [
    "явно общую площадь более 1000 можно рассматривать как выброс"
   ]
  },
  {
   "cell_type": "code",
   "execution_count": 32,
   "metadata": {},
   "outputs": [
    {
     "data": {
      "image/png": "[encoded data removed]",
      "text/plain": [
       "<Figure size 432x288 with 1 Axes>"
      ]
     },
     "metadata": {
      "needs_background": "light"
     },
     "output_type": "display_data"
    }
   ],
   "source": [
    "plt.scatter(data.life_sq, data.price_doc)\n",
    "plt.xlabel('life_sq')\n",
    "plt.ylabel('price_doc')\n",
    "plt.title('Цена vs life_sq')\n",
    "plt.show();"
   ]
  },
  {
   "cell_type": "markdown",
   "metadata": {},
   "source": [
    "присутствует единичный выброс со значением 7478"
   ]
  },
  {
   "cell_type": "code",
   "execution_count": 33,
   "metadata": {},
   "outputs": [
    {
     "data": {
      "image/png": "[encoded data removed]",
      "text/plain": [
       "<Figure size 432x288 with 1 Axes>"
      ]
     },
     "metadata": {
      "needs_background": "light"
     },
     "output_type": "display_data"
    }
   ],
   "source": [
    "plt.scatter(data.num_room, data.price_doc)\n",
    "plt.xlabel('num_room')\n",
    "plt.ylabel('price_doc')\n",
    "plt.title('Цена vs num_room')\n",
    "plt.show();"
   ]
  },
  {
   "cell_type": "markdown",
   "metadata": {},
   "source": [
    "количество комнат более 15 можно рассматривать тоже как выброс"
   ]
  },
  {
   "cell_type": "markdown",
   "metadata": {},
   "source": [
    "Нулевые значения также скорее всего просто заполнение пропусков. Логичнее отфильтровать по 25 процентилю и явным выбросам по всех границе значений"
   ]
  },
  {
   "cell_type": "code",
   "execution_count": 69,
   "metadata": {},
   "outputs": [],
   "source": [
    "#data_new = data.loc[(data['full_sq']>37.0) & (data['full_sq']<1000.0) & (data['life_sq']>19) & (data['life_sq']<1000.0) & (data['num_room']>0) & (data['num_room']<7.0)]\n",
    "#data_new = data.loc[(data['full_sq']<1000.0) & (data['life_sq']<1000.0) & (data['num_room']<15.0)]\n",
    "data_new = data.loc[(data['full_sq']<1000.0) & (data['life_sq']!=7478.0)]"
   ]
  },
  {
   "cell_type": "code",
   "execution_count": 70,
   "metadata": {},
   "outputs": [
    {
     "name": "stdout",
     "output_type": "stream",
     "text": [
      "<class 'pandas.core.frame.DataFrame'>\n",
      "Int64Index: 30469 entries, 0 to 30470\n",
      "Data columns (total 45 columns):\n",
      " #   Column                             Non-Null Count  Dtype  \n",
      "---  ------                             --------------  -----  \n",
      " 0   full_sq                            30469 non-null  int64  \n",
      " 1   life_sq                            24086 non-null  float64\n",
      " 2   floor                              30302 non-null  float64\n",
      " 3   max_floor                          20898 non-null  float64\n",
      " 4   material                           20898 non-null  float64\n",
      " 5   build_year                         16865 non-null  float64\n",
      " 6   num_room                           20898 non-null  float64\n",
      " 7   kitch_sq                           20898 non-null  float64\n",
      " 8   state                              16911 non-null  float64\n",
      " 9   area_m                             30469 non-null  float64\n",
      " 10  raion_popul                        30469 non-null  int64  \n",
      " 11  green_zone_part                    30469 non-null  float64\n",
      " 12  indust_part                        30469 non-null  float64\n",
      " 13  preschool_education_centers_raion  30469 non-null  int64  \n",
      " 14  school_education_centers_raion     30469 non-null  int64  \n",
      " 15  hospital_beds_raion                16029 non-null  float64\n",
      " 16  healthcare_centers_raion           30469 non-null  int64  \n",
      " 17  sport_objects_raion                30469 non-null  int64  \n",
      " 18  additional_education_raion         30469 non-null  int64  \n",
      " 19  shopping_centers_raion             30469 non-null  int64  \n",
      " 20  office_raion                       30469 non-null  int64  \n",
      " 21  ID_metro                           30469 non-null  int64  \n",
      " 22  metro_min_walk                     30444 non-null  float64\n",
      " 23  kindergarten_km                    30469 non-null  float64\n",
      " 24  school_km                          30469 non-null  float64\n",
      " 25  park_km                            30469 non-null  float64\n",
      " 26  green_zone_km                      30469 non-null  float64\n",
      " 27  industrial_km                      30469 non-null  float64\n",
      " 28  water_km                           30469 non-null  float64\n",
      " 29  mkad_km                            30469 non-null  float64\n",
      " 30  ttk_km                             30469 non-null  float64\n",
      " 31  sadovoe_km                         30469 non-null  float64\n",
      " 32  bulvar_ring_km                     30469 non-null  float64\n",
      " 33  kremlin_km                         30469 non-null  float64\n",
      " 34  ts_km                              30469 non-null  float64\n",
      " 35  big_market_km                      30469 non-null  float64\n",
      " 36  market_shop_km                     30469 non-null  float64\n",
      " 37  fitness_km                         30469 non-null  float64\n",
      " 38  university_km                      30469 non-null  float64\n",
      " 39  workplaces_km                      30469 non-null  float64\n",
      " 40  shopping_centers_km                30469 non-null  float64\n",
      " 41  office_km                          30469 non-null  float64\n",
      " 42  additional_education_raion         30469 non-null  int64  \n",
      " 43  preschool_km                       30469 non-null  float64\n",
      " 44  price_doc                          30469 non-null  int64  \n",
      "dtypes: float64(33), int64(12)\n",
      "memory usage: 10.7 MB\n"
     ]
    }
   ],
   "source": [
    "data_new.info()"
   ]
  },
  {
   "cell_type": "code",
   "execution_count": 71,
   "metadata": {},
   "outputs": [
    {
     "data": {
      "text/html": [
       "<div>\n",
       "<style scoped>\n",
       "    .dataframe tbody tr th:only-of-type {\n",
       "        vertical-align: middle;\n",
       "    }\n",
       "\n",
       "    .dataframe tbody tr th {\n",
       "        vertical-align: top;\n",
       "    }\n",
       "\n",
       "    .dataframe thead th {\n",
       "        text-align: right;\n",
       "    }\n",
       "</style>\n",
       "<table border=\"1\" class=\"dataframe\">\n",
       "  <thead>\n",
       "    <tr style=\"text-align: right;\">\n",
       "      <th></th>\n",
       "      <th>life_sq</th>\n",
       "      <th>full_sq</th>\n",
       "      <th>num_room</th>\n",
       "    </tr>\n",
       "  </thead>\n",
       "  <tbody>\n",
       "    <tr>\n",
       "      <th>count</th>\n",
       "      <td>24086.000000</td>\n",
       "      <td>30469.000000</td>\n",
       "      <td>20898.000000</td>\n",
       "    </tr>\n",
       "    <tr>\n",
       "      <th>mean</th>\n",
       "      <td>34.094744</td>\n",
       "      <td>54.040435</td>\n",
       "      <td>1.909752</td>\n",
       "    </tr>\n",
       "    <tr>\n",
       "      <th>std</th>\n",
       "      <td>20.819231</td>\n",
       "      <td>23.114443</td>\n",
       "      <td>0.851792</td>\n",
       "    </tr>\n",
       "    <tr>\n",
       "      <th>min</th>\n",
       "      <td>0.000000</td>\n",
       "      <td>0.000000</td>\n",
       "      <td>0.000000</td>\n",
       "    </tr>\n",
       "    <tr>\n",
       "      <th>25%</th>\n",
       "      <td>20.000000</td>\n",
       "      <td>38.000000</td>\n",
       "      <td>1.000000</td>\n",
       "    </tr>\n",
       "    <tr>\n",
       "      <th>50%</th>\n",
       "      <td>30.000000</td>\n",
       "      <td>49.000000</td>\n",
       "      <td>2.000000</td>\n",
       "    </tr>\n",
       "    <tr>\n",
       "      <th>75%</th>\n",
       "      <td>43.000000</td>\n",
       "      <td>63.000000</td>\n",
       "      <td>2.000000</td>\n",
       "    </tr>\n",
       "    <tr>\n",
       "      <th>max</th>\n",
       "      <td>802.000000</td>\n",
       "      <td>729.000000</td>\n",
       "      <td>19.000000</td>\n",
       "    </tr>\n",
       "  </tbody>\n",
       "</table>\n",
       "</div>"
      ],
      "text/plain": [
       "            life_sq       full_sq      num_room\n",
       "count  24086.000000  30469.000000  20898.000000\n",
       "mean      34.094744     54.040435      1.909752\n",
       "std       20.819231     23.114443      0.851792\n",
       "min        0.000000      0.000000      0.000000\n",
       "25%       20.000000     38.000000      1.000000\n",
       "50%       30.000000     49.000000      2.000000\n",
       "75%       43.000000     63.000000      2.000000\n",
       "max      802.000000    729.000000     19.000000"
      ]
     },
     "execution_count": 71,
     "metadata": {},
     "output_type": "execute_result"
    }
   ],
   "source": [
    "data_new[['life_sq','full_sq', 'num_room']].describe()"
   ]
  },
  {
   "cell_type": "code",
   "execution_count": 72,
   "metadata": {},
   "outputs": [
    {
     "name": "stderr",
     "output_type": "stream",
     "text": [
      "C:\\Users\\BEU_RU1\\Anaconda3\\lib\\site-packages\\ipykernel_launcher.py:2: SettingWithCopyWarning: \n",
      "A value is trying to be set on a copy of a slice from a DataFrame.\n",
      "Try using .loc[row_indexer,col_indexer] = value instead\n",
      "\n",
      "See the caveats in the documentation: https://pandas.pydata.org/pandas-docs/stable/user_guide/indexing.html#returning-a-view-versus-a-copy\n",
      "  \n"
     ]
    }
   ],
   "source": [
    "# Заменяем пропуски в колонке 'num_room' на среднее\n",
    "data_new['num_room'] = data_new['num_room'].fillna(data_new['num_room'].mean())"
   ]
  },
  {
   "cell_type": "code",
   "execution_count": 73,
   "metadata": {},
   "outputs": [
    {
     "name": "stderr",
     "output_type": "stream",
     "text": [
      "C:\\Users\\BEU_RU1\\Anaconda3\\lib\\site-packages\\ipykernel_launcher.py:2: SettingWithCopyWarning: \n",
      "A value is trying to be set on a copy of a slice from a DataFrame.\n",
      "Try using .loc[row_indexer,col_indexer] = value instead\n",
      "\n",
      "See the caveats in the documentation: https://pandas.pydata.org/pandas-docs/stable/user_guide/indexing.html#returning-a-view-versus-a-copy\n",
      "  \n"
     ]
    }
   ],
   "source": [
    "# Заменяем пропуски в колонке 'life_sq' на медиану\n",
    "data_new['life_sq'] = data_new['life_sq'].fillna(data_new['life_sq'].median())"
   ]
  },
  {
   "cell_type": "code",
   "execution_count": 74,
   "metadata": {},
   "outputs": [],
   "source": [
    "b_train, b_test, y_train, y_test = train_test_split(data_new.drop('price_doc',axis=1), data_new.price_doc, random_state=RANDOM_STATE, test_size=0.2)"
   ]
  },
  {
   "cell_type": "code",
   "execution_count": 75,
   "metadata": {},
   "outputs": [],
   "source": [
    "# Заменяем пропуски на специальное значение -999, чтобы деревья могли их отличить\n",
    "X_train_4 = b_train.fillna(-999)\n",
    "\n",
    "X_test_4 = b_test.fillna(-999)"
   ]
  },
  {
   "cell_type": "code",
   "execution_count": 76,
   "metadata": {},
   "outputs": [
    {
     "data": {
      "text/plain": [
       "RandomForestRegressor(bootstrap=True, ccp_alpha=0.0, criterion='mse',\n",
       "                      max_depth=20, max_features=0.8, max_leaf_nodes=None,\n",
       "                      max_samples=None, min_impurity_decrease=0.0,\n",
       "                      min_impurity_split=None, min_samples_leaf=20,\n",
       "                      min_samples_split=2, min_weight_fraction_leaf=0.0,\n",
       "                      n_estimators=100, n_jobs=-1, oob_score=False,\n",
       "                      random_state=7, verbose=0, warm_start=False)"
      ]
     },
     "execution_count": 76,
     "metadata": {},
     "output_type": "execute_result"
    }
   ],
   "source": [
    "model_rf_4 = RandomForestRegressor(n_estimators=100, max_depth=20, min_samples_leaf=20, max_features=0.8, n_jobs=-1, bootstrap=True, random_state=RANDOM_STATE)\n",
    "model_rf_4.fit(X_train_4, y_train)"
   ]
  },
  {
   "cell_type": "code",
   "execution_count": 77,
   "metadata": {},
   "outputs": [
    {
     "name": "stdout",
     "output_type": "stream",
     "text": [
      "MSE = 8472776000845.31\n"
     ]
    }
   ],
   "source": [
    "score_4 = f\"MSE = {np.mean(-cross_val_score(model_rf_4,X_test_4,y_test,cv=N_FOLDS,scoring='neg_mean_squared_error'))}\"\n",
    "print (score_4)"
   ]
  },
  {
   "cell_type": "markdown",
   "metadata": {},
   "source": [
    "стало чуть хуже, так как размер выборки уменьшается после удаления выбросов"
   ]
  },
  {
   "cell_type": "markdown",
   "metadata": {},
   "source": [
    "## Генерируем признаки"
   ]
  },
  {
   "cell_type": "markdown",
   "metadata": {},
   "source": [
    "предположим, что наличие лифта увеличивает стоимость. Обычно в домах выше 5 этажа должен быть лифт."
   ]
  },
  {
   "cell_type": "code",
   "execution_count": 98,
   "metadata": {},
   "outputs": [
    {
     "data": {
      "text/plain": [
       "0       -999.0\n",
       "1       -999.0\n",
       "2       -999.0\n",
       "3       -999.0\n",
       "4       -999.0\n",
       "         ...  \n",
       "30466      9.0\n",
       "30467      9.0\n",
       "30468     20.0\n",
       "30469     15.0\n",
       "30470      9.0\n",
       "Name: max_floor, Length: 30469, dtype: float64"
      ]
     },
     "execution_count": 98,
     "metadata": {},
     "output_type": "execute_result"
    }
   ],
   "source": [
    "data_new['max_floor'].fillna(-999)"
   ]
  },
  {
   "cell_type": "code",
   "execution_count": 124,
   "metadata": {},
   "outputs": [
    {
     "name": "stderr",
     "output_type": "stream",
     "text": [
      "C:\\Users\\BEU_RU1\\Anaconda3\\lib\\site-packages\\ipykernel_launcher.py:7: SettingWithCopyWarning: \n",
      "A value is trying to be set on a copy of a slice from a DataFrame.\n",
      "Try using .loc[row_indexer,col_indexer] = value instead\n",
      "\n",
      "See the caveats in the documentation: https://pandas.pydata.org/pandas-docs/stable/user_guide/indexing.html#returning-a-view-versus-a-copy\n",
      "  import sys\n"
     ]
    }
   ],
   "source": [
    "def get_group(x):    \n",
    "    if x in data_new.loc[data_new['max_floor']> 5].values:\n",
    "        return 1\n",
    "    else:\n",
    "        return 0\n",
    "    \n",
    "data_new['elevator'] = data_new['max_floor'].apply(get_group)"
   ]
  },
  {
   "cell_type": "code",
   "execution_count": 128,
   "metadata": {},
   "outputs": [
    {
     "name": "stdout",
     "output_type": "stream",
     "text": [
      "<class 'pandas.core.frame.DataFrame'>\n",
      "Int64Index: 30469 entries, 0 to 30470\n",
      "Data columns (total 46 columns):\n",
      " #   Column                             Non-Null Count  Dtype  \n",
      "---  ------                             --------------  -----  \n",
      " 0   full_sq                            30469 non-null  int64  \n",
      " 1   life_sq                            30469 non-null  float64\n",
      " 2   floor                              30302 non-null  float64\n",
      " 3   max_floor                          20898 non-null  float64\n",
      " 4   material                           20898 non-null  float64\n",
      " 5   build_year                         16865 non-null  float64\n",
      " 6   num_room                           30469 non-null  float64\n",
      " 7   kitch_sq                           20898 non-null  float64\n",
      " 8   state                              16911 non-null  float64\n",
      " 9   area_m                             30469 non-null  float64\n",
      " 10  raion_popul                        30469 non-null  int64  \n",
      " 11  green_zone_part                    30469 non-null  float64\n",
      " 12  indust_part                        30469 non-null  float64\n",
      " 13  preschool_education_centers_raion  30469 non-null  int64  \n",
      " 14  school_education_centers_raion     30469 non-null  int64  \n",
      " 15  hospital_beds_raion                16029 non-null  float64\n",
      " 16  healthcare_centers_raion           30469 non-null  int64  \n",
      " 17  sport_objects_raion                30469 non-null  int64  \n",
      " 18  additional_education_raion         30469 non-null  int64  \n",
      " 19  shopping_centers_raion             30469 non-null  int64  \n",
      " 20  office_raion                       30469 non-null  int64  \n",
      " 21  ID_metro                           30469 non-null  int64  \n",
      " 22  metro_min_walk                     30444 non-null  float64\n",
      " 23  kindergarten_km                    30469 non-null  float64\n",
      " 24  school_km                          30469 non-null  float64\n",
      " 25  park_km                            30469 non-null  float64\n",
      " 26  green_zone_km                      30469 non-null  float64\n",
      " 27  industrial_km                      30469 non-null  float64\n",
      " 28  water_km                           30469 non-null  float64\n",
      " 29  mkad_km                            30469 non-null  float64\n",
      " 30  ttk_km                             30469 non-null  float64\n",
      " 31  sadovoe_km                         30469 non-null  float64\n",
      " 32  bulvar_ring_km                     30469 non-null  float64\n",
      " 33  kremlin_km                         30469 non-null  float64\n",
      " 34  ts_km                              30469 non-null  float64\n",
      " 35  big_market_km                      30469 non-null  float64\n",
      " 36  market_shop_km                     30469 non-null  float64\n",
      " 37  fitness_km                         30469 non-null  float64\n",
      " 38  university_km                      30469 non-null  float64\n",
      " 39  workplaces_km                      30469 non-null  float64\n",
      " 40  shopping_centers_km                30469 non-null  float64\n",
      " 41  office_km                          30469 non-null  float64\n",
      " 42  additional_education_raion         30469 non-null  int64  \n",
      " 43  preschool_km                       30469 non-null  float64\n",
      " 44  price_doc                          30469 non-null  int64  \n",
      " 45  elevator                           30469 non-null  int64  \n",
      "dtypes: float64(33), int64(13)\n",
      "memory usage: 12.2 MB\n"
     ]
    }
   ],
   "source": [
    "data_new.info()"
   ]
  },
  {
   "cell_type": "code",
   "execution_count": 129,
   "metadata": {},
   "outputs": [],
   "source": [
    "c_train, c_test, y_train, y_test = train_test_split(data_new.drop('price_doc',axis=1), data_new.price_doc, random_state=RANDOM_STATE, test_size=0.2)"
   ]
  },
  {
   "cell_type": "code",
   "execution_count": 130,
   "metadata": {},
   "outputs": [],
   "source": [
    "# Заменяем пропуски на специальное значение -999, чтобы деревья могли их отличить\n",
    "X_train_5 = c_train.fillna(-999)\n",
    "\n",
    "X_test_5 = c_test.fillna(-999)"
   ]
  },
  {
   "cell_type": "code",
   "execution_count": 131,
   "metadata": {},
   "outputs": [
    {
     "data": {
      "text/plain": [
       "RandomForestRegressor(bootstrap=True, ccp_alpha=0.0, criterion='mse',\n",
       "                      max_depth=20, max_features=0.8, max_leaf_nodes=None,\n",
       "                      max_samples=None, min_impurity_decrease=0.0,\n",
       "                      min_impurity_split=None, min_samples_leaf=20,\n",
       "                      min_samples_split=2, min_weight_fraction_leaf=0.0,\n",
       "                      n_estimators=100, n_jobs=-1, oob_score=False,\n",
       "                      random_state=7, verbose=0, warm_start=False)"
      ]
     },
     "execution_count": 131,
     "metadata": {},
     "output_type": "execute_result"
    }
   ],
   "source": [
    "model_rf_5 = RandomForestRegressor(n_estimators=100, max_depth=20, min_samples_leaf=20, max_features=0.8, n_jobs=-1, bootstrap=True, random_state=RANDOM_STATE)\n",
    "model_rf_5.fit(X_train_5, y_train)"
   ]
  },
  {
   "cell_type": "code",
   "execution_count": 132,
   "metadata": {},
   "outputs": [
    {
     "name": "stdout",
     "output_type": "stream",
     "text": [
      "MSE = 8530763129585.474\n"
     ]
    }
   ],
   "source": [
    "score_5 = f\"MSE = {np.mean(-cross_val_score(model_rf_5,X_test_5,y_test,cv=N_FOLDS,scoring='neg_mean_squared_error'))}\"\n",
    "print (score_5)"
   ]
  },
  {
   "cell_type": "markdown",
   "metadata": {},
   "source": [
    "с добавлением нового признака показатель немного ухудшился, гипотеза не оправдалась"
   ]
  },
  {
   "cell_type": "code",
   "execution_count": 133,
   "metadata": {},
   "outputs": [
    {
     "name": "stderr",
     "output_type": "stream",
     "text": [
      "C:\\Users\\BEU_RU1\\Anaconda3\\lib\\site-packages\\pandas\\core\\frame.py:3997: SettingWithCopyWarning: \n",
      "A value is trying to be set on a copy of a slice from a DataFrame\n",
      "\n",
      "See the caveats in the documentation: https://pandas.pydata.org/pandas-docs/stable/user_guide/indexing.html#returning-a-view-versus-a-copy\n",
      "  errors=errors,\n"
     ]
    }
   ],
   "source": [
    "data_new.drop('elevator',axis=1, inplace=True)"
   ]
  },
  {
   "cell_type": "markdown",
   "metadata": {},
   "source": [
    "Предположим, что квартиры-студио, у которых жилая и общая площадь совпадают, отличаются по стоимости"
   ]
  },
  {
   "cell_type": "code",
   "execution_count": 134,
   "metadata": {},
   "outputs": [
    {
     "name": "stderr",
     "output_type": "stream",
     "text": [
      "C:\\Users\\BEU_RU1\\Anaconda3\\lib\\site-packages\\ipykernel_launcher.py:7: SettingWithCopyWarning: \n",
      "A value is trying to be set on a copy of a slice from a DataFrame.\n",
      "Try using .loc[row_indexer,col_indexer] = value instead\n",
      "\n",
      "See the caveats in the documentation: https://pandas.pydata.org/pandas-docs/stable/user_guide/indexing.html#returning-a-view-versus-a-copy\n",
      "  import sys\n"
     ]
    }
   ],
   "source": [
    "def get_group(x):    \n",
    "    if x in data_new.loc[data_new['full_sq'] == data_new['life_sq']].values:\n",
    "        return 1\n",
    "    else: \n",
    "        return 0\n",
    "    \n",
    "data_new['studio'] = data_new['full_sq'].apply(get_group)"
   ]
  },
  {
   "cell_type": "code",
   "execution_count": 135,
   "metadata": {},
   "outputs": [],
   "source": [
    "m_train, m_test, y_train, y_test = train_test_split(data_new.drop('price_doc',axis=1), data_new.price_doc, random_state=RANDOM_STATE, test_size=0.2)"
   ]
  },
  {
   "cell_type": "code",
   "execution_count": 136,
   "metadata": {},
   "outputs": [],
   "source": [
    "# Заменяем пропуски на специальное значение -999, чтобы деревья могли их отличить\n",
    "X_train_6 = m_train.fillna(-999)\n",
    "\n",
    "X_test_6 = m_test.fillna(-999)"
   ]
  },
  {
   "cell_type": "code",
   "execution_count": 137,
   "metadata": {},
   "outputs": [
    {
     "data": {
      "text/plain": [
       "RandomForestRegressor(bootstrap=True, ccp_alpha=0.0, criterion='mse',\n",
       "                      max_depth=20, max_features=0.8, max_leaf_nodes=None,\n",
       "                      max_samples=None, min_impurity_decrease=0.0,\n",
       "                      min_impurity_split=None, min_samples_leaf=20,\n",
       "                      min_samples_split=2, min_weight_fraction_leaf=0.0,\n",
       "                      n_estimators=100, n_jobs=-1, oob_score=False,\n",
       "                      random_state=7, verbose=0, warm_start=False)"
      ]
     },
     "execution_count": 137,
     "metadata": {},
     "output_type": "execute_result"
    }
   ],
   "source": [
    "model_rf_6 = RandomForestRegressor(n_estimators=100, max_depth=20, min_samples_leaf=20, max_features=0.8, n_jobs=-1, bootstrap=True, random_state=RANDOM_STATE)\n",
    "model_rf_6.fit(X_train_6, y_train)"
   ]
  },
  {
   "cell_type": "code",
   "execution_count": 138,
   "metadata": {},
   "outputs": [
    {
     "name": "stdout",
     "output_type": "stream",
     "text": [
      "MSE = 8502429350933.525\n"
     ]
    }
   ],
   "source": [
    "score_6 = f\"MSE = {np.mean(-cross_val_score(model_rf_6,X_test_6,y_test,cv=N_FOLDS,scoring='neg_mean_squared_error'))}\"\n",
    "print (score_6)"
   ]
  },
  {
   "cell_type": "markdown",
   "metadata": {},
   "source": [
    "показатель также немного ухудшился, гипотеза не оправдалась"
   ]
  },
  {
   "cell_type": "code",
   "execution_count": 140,
   "metadata": {},
   "outputs": [
    {
     "name": "stderr",
     "output_type": "stream",
     "text": [
      "C:\\Users\\BEU_RU1\\Anaconda3\\lib\\site-packages\\pandas\\core\\frame.py:3997: SettingWithCopyWarning: \n",
      "A value is trying to be set on a copy of a slice from a DataFrame\n",
      "\n",
      "See the caveats in the documentation: https://pandas.pydata.org/pandas-docs/stable/user_guide/indexing.html#returning-a-view-versus-a-copy\n",
      "  errors=errors,\n"
     ]
    }
   ],
   "source": [
    "data_new.drop('studio',axis=1, inplace=True)"
   ]
  },
  {
   "cell_type": "markdown",
   "metadata": {},
   "source": [
    "возможно год постройки имеет значение, обозначим дома после 2000 года постройки - как новостройки, с 1980 до 2000 - капремонт, ранее 1980 - реновация"
   ]
  },
  {
   "cell_type": "code",
   "execution_count": 141,
   "metadata": {},
   "outputs": [
    {
     "name": "stderr",
     "output_type": "stream",
     "text": [
      "C:\\Users\\BEU_RU1\\Anaconda3\\lib\\site-packages\\ipykernel_launcher.py:9: SettingWithCopyWarning: \n",
      "A value is trying to be set on a copy of a slice from a DataFrame.\n",
      "Try using .loc[row_indexer,col_indexer] = value instead\n",
      "\n",
      "See the caveats in the documentation: https://pandas.pydata.org/pandas-docs/stable/user_guide/indexing.html#returning-a-view-versus-a-copy\n",
      "  if __name__ == '__main__':\n"
     ]
    }
   ],
   "source": [
    "def get_group(x):    \n",
    "    if x in data_new.loc[data_new['build_year']>2000.0].values:\n",
    "        return \"новостройки\"\n",
    "    elif x in data_new.loc[(data_new['build_year']>=1980.0) & (data_new['build_year'] <=2000.0)].values:\n",
    "        return \"капремонт\"\n",
    "    else: \n",
    "        return 'реновация'\n",
    "    \n",
    "data_new['age_house'] = data_new['build_year'].apply(get_group)"
   ]
  },
  {
   "cell_type": "code",
   "execution_count": 109,
   "metadata": {},
   "outputs": [],
   "source": [
    "# сформируем новые признаки через LabelEncoder\n",
    "from sklearn.preprocessing import LabelEncoder\n",
    "le = LabelEncoder()"
   ]
  },
  {
   "cell_type": "code",
   "execution_count": 142,
   "metadata": {},
   "outputs": [
    {
     "data": {
      "text/plain": [
       "LabelEncoder()"
      ]
     },
     "execution_count": 142,
     "metadata": {},
     "output_type": "execute_result"
    }
   ],
   "source": [
    "le.fit(data_new['age_house'])"
   ]
  },
  {
   "cell_type": "code",
   "execution_count": 143,
   "metadata": {},
   "outputs": [
    {
     "data": {
      "text/plain": [
       "array(['капремонт', 'новостройки', 'реновация'], dtype=object)"
      ]
     },
     "execution_count": 143,
     "metadata": {},
     "output_type": "execute_result"
    }
   ],
   "source": [
    "le.classes_"
   ]
  },
  {
   "cell_type": "code",
   "execution_count": 163,
   "metadata": {},
   "outputs": [],
   "source": [
    "data_new_1 = data_new.copy()"
   ]
  },
  {
   "cell_type": "code",
   "execution_count": 164,
   "metadata": {},
   "outputs": [
    {
     "name": "stdout",
     "output_type": "stream",
     "text": [
      "<class 'pandas.core.frame.DataFrame'>\n",
      "Int64Index: 30469 entries, 0 to 30470\n",
      "Data columns (total 46 columns):\n",
      " #   Column                             Non-Null Count  Dtype  \n",
      "---  ------                             --------------  -----  \n",
      " 0   full_sq                            30469 non-null  int64  \n",
      " 1   life_sq                            30469 non-null  float64\n",
      " 2   floor                              30302 non-null  float64\n",
      " 3   max_floor                          20898 non-null  float64\n",
      " 4   material                           20898 non-null  float64\n",
      " 5   build_year                         16865 non-null  float64\n",
      " 6   num_room                           30469 non-null  float64\n",
      " 7   kitch_sq                           20898 non-null  float64\n",
      " 8   state                              16911 non-null  float64\n",
      " 9   area_m                             30469 non-null  float64\n",
      " 10  raion_popul                        30469 non-null  int64  \n",
      " 11  green_zone_part                    30469 non-null  float64\n",
      " 12  indust_part                        30469 non-null  float64\n",
      " 13  preschool_education_centers_raion  30469 non-null  int64  \n",
      " 14  school_education_centers_raion     30469 non-null  int64  \n",
      " 15  hospital_beds_raion                16029 non-null  float64\n",
      " 16  healthcare_centers_raion           30469 non-null  int64  \n",
      " 17  sport_objects_raion                30469 non-null  int64  \n",
      " 18  additional_education_raion         30469 non-null  int64  \n",
      " 19  shopping_centers_raion             30469 non-null  int64  \n",
      " 20  office_raion                       30469 non-null  int64  \n",
      " 21  ID_metro                           30469 non-null  int64  \n",
      " 22  metro_min_walk                     30444 non-null  float64\n",
      " 23  kindergarten_km                    30469 non-null  float64\n",
      " 24  school_km                          30469 non-null  float64\n",
      " 25  park_km                            30469 non-null  float64\n",
      " 26  green_zone_km                      30469 non-null  float64\n",
      " 27  industrial_km                      30469 non-null  float64\n",
      " 28  water_km                           30469 non-null  float64\n",
      " 29  mkad_km                            30469 non-null  float64\n",
      " 30  ttk_km                             30469 non-null  float64\n",
      " 31  sadovoe_km                         30469 non-null  float64\n",
      " 32  bulvar_ring_km                     30469 non-null  float64\n",
      " 33  kremlin_km                         30469 non-null  float64\n",
      " 34  ts_km                              30469 non-null  float64\n",
      " 35  big_market_km                      30469 non-null  float64\n",
      " 36  market_shop_km                     30469 non-null  float64\n",
      " 37  fitness_km                         30469 non-null  float64\n",
      " 38  university_km                      30469 non-null  float64\n",
      " 39  workplaces_km                      30469 non-null  float64\n",
      " 40  shopping_centers_km                30469 non-null  float64\n",
      " 41  office_km                          30469 non-null  float64\n",
      " 42  additional_education_raion         30469 non-null  int64  \n",
      " 43  preschool_km                       30469 non-null  float64\n",
      " 44  price_doc                          30469 non-null  int64  \n",
      " 45  age_house                          30469 non-null  object \n",
      "dtypes: float64(33), int64(12), object(1)\n",
      "memory usage: 10.9+ MB\n"
     ]
    }
   ],
   "source": [
    "data_new_1.info()"
   ]
  },
  {
   "cell_type": "code",
   "execution_count": 165,
   "metadata": {},
   "outputs": [],
   "source": [
    "data_new_1['age_house'] = le.transform(data_new['age_house'])"
   ]
  },
  {
   "cell_type": "code",
   "execution_count": 166,
   "metadata": {},
   "outputs": [],
   "source": [
    "n_train, n_test, y_train, y_test = train_test_split(data_new_1.drop('price_doc', axis = 1), data_new_1.price_doc, random_state=RANDOM_STATE, test_size=0.2)"
   ]
  },
  {
   "cell_type": "code",
   "execution_count": 167,
   "metadata": {},
   "outputs": [],
   "source": [
    "# Заменяем пропуски на специальное значение -999, чтобы деревья могли их отличить\n",
    "X_train_7 = n_train.fillna(-999)\n",
    "\n",
    "X_test_7 = n_test.fillna(-999)"
   ]
  },
  {
   "cell_type": "code",
   "execution_count": 168,
   "metadata": {},
   "outputs": [
    {
     "data": {
      "text/plain": [
       "RandomForestRegressor(bootstrap=True, ccp_alpha=0.0, criterion='mse',\n",
       "                      max_depth=20, max_features=0.8, max_leaf_nodes=None,\n",
       "                      max_samples=None, min_impurity_decrease=0.0,\n",
       "                      min_impurity_split=None, min_samples_leaf=20,\n",
       "                      min_samples_split=2, min_weight_fraction_leaf=0.0,\n",
       "                      n_estimators=100, n_jobs=-1, oob_score=False,\n",
       "                      random_state=7, verbose=0, warm_start=False)"
      ]
     },
     "execution_count": 168,
     "metadata": {},
     "output_type": "execute_result"
    }
   ],
   "source": [
    "model_rf_7 = RandomForestRegressor(n_estimators=100, max_depth=20, min_samples_leaf=20, max_features=0.8, n_jobs=-1, bootstrap=True, random_state=RANDOM_STATE)\n",
    "model_rf_7.fit(X_train_7, y_train)"
   ]
  },
  {
   "cell_type": "code",
   "execution_count": 169,
   "metadata": {},
   "outputs": [
    {
     "name": "stdout",
     "output_type": "stream",
     "text": [
      "MSE = 8510590428284.084\n"
     ]
    }
   ],
   "source": [
    "score_7 = f\"MSE = {np.mean(-cross_val_score(model_rf_7,X_test_7,y_test,cv=N_FOLDS,scoring='neg_mean_squared_error'))}\"\n",
    "print (score_7)"
   ]
  },
  {
   "cell_type": "markdown",
   "metadata": {},
   "source": [
    "показатель также немного ухудшился, гипотеза не оправдалась"
   ]
  },
  {
   "cell_type": "code",
   "execution_count": 171,
   "metadata": {},
   "outputs": [],
   "source": [
    "data_new_2 = pd.get_dummies(data_new.drop('price_doc', axis = 1))"
   ]
  },
  {
   "cell_type": "code",
   "execution_count": 172,
   "metadata": {},
   "outputs": [
    {
     "name": "stdout",
     "output_type": "stream",
     "text": [
      "<class 'pandas.core.frame.DataFrame'>\n",
      "Int64Index: 30469 entries, 0 to 30470\n",
      "Data columns (total 47 columns):\n",
      " #   Column                             Non-Null Count  Dtype  \n",
      "---  ------                             --------------  -----  \n",
      " 0   full_sq                            30469 non-null  int64  \n",
      " 1   life_sq                            30469 non-null  float64\n",
      " 2   floor                              30302 non-null  float64\n",
      " 3   max_floor                          20898 non-null  float64\n",
      " 4   material                           20898 non-null  float64\n",
      " 5   build_year                         16865 non-null  float64\n",
      " 6   num_room                           30469 non-null  float64\n",
      " 7   kitch_sq                           20898 non-null  float64\n",
      " 8   state                              16911 non-null  float64\n",
      " 9   area_m                             30469 non-null  float64\n",
      " 10  raion_popul                        30469 non-null  int64  \n",
      " 11  green_zone_part                    30469 non-null  float64\n",
      " 12  indust_part                        30469 non-null  float64\n",
      " 13  preschool_education_centers_raion  30469 non-null  int64  \n",
      " 14  school_education_centers_raion     30469 non-null  int64  \n",
      " 15  hospital_beds_raion                16029 non-null  float64\n",
      " 16  healthcare_centers_raion           30469 non-null  int64  \n",
      " 17  sport_objects_raion                30469 non-null  int64  \n",
      " 18  additional_education_raion         30469 non-null  int64  \n",
      " 19  shopping_centers_raion             30469 non-null  int64  \n",
      " 20  office_raion                       30469 non-null  int64  \n",
      " 21  ID_metro                           30469 non-null  int64  \n",
      " 22  metro_min_walk                     30444 non-null  float64\n",
      " 23  kindergarten_km                    30469 non-null  float64\n",
      " 24  school_km                          30469 non-null  float64\n",
      " 25  park_km                            30469 non-null  float64\n",
      " 26  green_zone_km                      30469 non-null  float64\n",
      " 27  industrial_km                      30469 non-null  float64\n",
      " 28  water_km                           30469 non-null  float64\n",
      " 29  mkad_km                            30469 non-null  float64\n",
      " 30  ttk_km                             30469 non-null  float64\n",
      " 31  sadovoe_km                         30469 non-null  float64\n",
      " 32  bulvar_ring_km                     30469 non-null  float64\n",
      " 33  kremlin_km                         30469 non-null  float64\n",
      " 34  ts_km                              30469 non-null  float64\n",
      " 35  big_market_km                      30469 non-null  float64\n",
      " 36  market_shop_km                     30469 non-null  float64\n",
      " 37  fitness_km                         30469 non-null  float64\n",
      " 38  university_km                      30469 non-null  float64\n",
      " 39  workplaces_km                      30469 non-null  float64\n",
      " 40  shopping_centers_km                30469 non-null  float64\n",
      " 41  office_km                          30469 non-null  float64\n",
      " 42  additional_education_raion         30469 non-null  int64  \n",
      " 43  preschool_km                       30469 non-null  float64\n",
      " 44  age_house_капремонт                30469 non-null  uint8  \n",
      " 45  age_house_новостройки              30469 non-null  uint8  \n",
      " 46  age_house_реновация                30469 non-null  uint8  \n",
      "dtypes: float64(33), int64(11), uint8(3)\n",
      "memory usage: 11.8 MB\n"
     ]
    }
   ],
   "source": [
    "data_new_2.info()"
   ]
  },
  {
   "cell_type": "code",
   "execution_count": 173,
   "metadata": {},
   "outputs": [],
   "source": [
    "t_train, t_test, y_train, y_test = train_test_split(data_new_2, data_new.price_doc, random_state=RANDOM_STATE, test_size=0.2)"
   ]
  },
  {
   "cell_type": "code",
   "execution_count": 174,
   "metadata": {},
   "outputs": [],
   "source": [
    "# Заменяем пропуски на специальное значение -999, чтобы деревья могли их отличить\n",
    "X_train_8 = t_train.fillna(-999)\n",
    "\n",
    "X_test_8 = t_test.fillna(-999)"
   ]
  },
  {
   "cell_type": "code",
   "execution_count": 175,
   "metadata": {},
   "outputs": [
    {
     "data": {
      "text/plain": [
       "RandomForestRegressor(bootstrap=True, ccp_alpha=0.0, criterion='mse',\n",
       "                      max_depth=20, max_features=0.8, max_leaf_nodes=None,\n",
       "                      max_samples=None, min_impurity_decrease=0.0,\n",
       "                      min_impurity_split=None, min_samples_leaf=20,\n",
       "                      min_samples_split=2, min_weight_fraction_leaf=0.0,\n",
       "                      n_estimators=100, n_jobs=-1, oob_score=False,\n",
       "                      random_state=7, verbose=0, warm_start=False)"
      ]
     },
     "execution_count": 175,
     "metadata": {},
     "output_type": "execute_result"
    }
   ],
   "source": [
    "model_rf_8 = RandomForestRegressor(n_estimators=100, max_depth=20, min_samples_leaf=20, max_features=0.8, n_jobs=-1, bootstrap=True, random_state=RANDOM_STATE)\n",
    "model_rf_8.fit(X_train_8, y_train)"
   ]
  },
  {
   "cell_type": "code",
   "execution_count": 176,
   "metadata": {},
   "outputs": [
    {
     "name": "stdout",
     "output_type": "stream",
     "text": [
      "MSE = 8514546654354.06\n"
     ]
    }
   ],
   "source": [
    "score_8 = f\"MSE = {np.mean(-cross_val_score(model_rf_8,X_test_8,y_test,cv=N_FOLDS,scoring='neg_mean_squared_error'))}\"\n",
    "print (score_8)"
   ]
  },
  {
   "cell_type": "markdown",
   "metadata": {},
   "source": [
    "показатель также немного ухудшился, гипотеза не оправдалась"
   ]
  },
  {
   "cell_type": "code",
   "execution_count": 190,
   "metadata": {},
   "outputs": [
    {
     "data": {
      "text/plain": [
       "[8387586838469.958,\n",
       " 8376920864774.594,\n",
       " 8371550919683.42,\n",
       " 8472776000845.31,\n",
       " 8530763129585.474,\n",
       " 8502429350933.525,\n",
       " 8510590428284.084,\n",
       " 8514546654354.06]"
      ]
     },
     "execution_count": 190,
     "metadata": {},
     "output_type": "execute_result"
    }
   ],
   "source": [
    "score = [8387586838469.958, 8376920864774.594, 8371550919683.42, 8472776000845.31, 8530763129585.474, 8502429350933.525, 8510590428284.084, 8514546654354.06]\n",
    "score"
   ]
  },
  {
   "cell_type": "code",
   "execution_count": 191,
   "metadata": {},
   "outputs": [
    {
     "data": {
      "image/png": "[encoded data removed]",
      "text/plain": [
       "<Figure size 1152x864 with 1 Axes>"
      ]
     },
     "metadata": {
      "needs_background": "light"
     },
     "output_type": "display_data"
    }
   ],
   "source": [
    "plt.figure(figsize=(16,12))\n",
    "plt.plot(score)\n",
    "plt.title('График изменения MSE')\n",
    "plt.grid()\n",
    "plt.show();"
   ]
  },
  {
   "cell_type": "markdown",
   "metadata": {},
   "source": [
    "Как показала практика - очень важно владеть знаниями в сфере анализа, \\\n",
    "чтобы знать как правильно заполнить пропуски и убирать выбросы, а также генерировать новые признаки. \\\n",
    "Иначе показатель ошибок только возрастает.\\\n",
    "Возможно, столо также посмотреть корреляцию признаков и убрать лишние, наоборот.\\\n",
    "Можно было попробовать обработать выборы через интерквантильны разброс, но это сильно уменьшает набор данных.\\\n",
    "А также правильно выбирать модель.\\\n",
    "В целом хорошая тренировка навыков получилась, но довольно объемный подход в задании, поэтому проверил лишь часть гипотез\n"
   ]
  },
  {
   "cell_type": "code",
   "execution_count": null,
   "metadata": {},
   "outputs": [],
   "source": []
  }
 ],
 "metadata": {
  "kernelspec": {
   "display_name": "Python 3",
   "language": "python",
   "name": "python3"
  },
  "language_info": {
   "codemirror_mode": {
    "name": "ipython",
    "version": 3
   },
   "file_extension": ".py",
   "mimetype": "text/x-python",
   "name": "python",
   "nbconvert_exporter": "python",
   "pygments_lexer": "ipython3",
   "version": "3.7.6"
  }
 },
 "nbformat": 4,
 "nbformat_minor": 4
}
